{
 "cells": [
  {
   "cell_type": "markdown",
   "metadata": {},
   "source": [
    "## Paso 01 - Descarga de los datasets obligatorios.\n",
    "\n",
    "En la web https://datosabiertos.enacom.gob.ar/dashboards/20000/acceso-a-internet/ hay 9 dataviews y 7 visualizations que en total suman 16 representaciones de diferentes datasets. \n",
    "\n",
    "A continuación se enumeran los títulos y el código GUID de cada dataset. Este código GUID junto con la clave API serán necesarios para acceder a los datasets en caso de querer automatizar los procesos.\n",
    "\n",
    "Para un uso simple tenemos acceso directo a ficheros .CSV"
   ]
  },
  {
   "cell_type": "markdown",
   "metadata": {},
   "source": [
    "| id | Descripción | GUID  | Enlace | Enlace |\n",
    "| -- | ----------- | ----- | ------ | ------ |\n",
    "| 01 | Penetración de Internet fijo (accesos por cada 100 hogares) | PENET-DE-INTER-FIJO-57760 | [CSV](http://datosabiertos.enacom.gob.ar/rest/datastreams/275028/data.csv) | [permalink](http://datosabiertos.enacom.gob.ar/visualizations/32226/penetracion-de-internet-fijo-accesos-por-cada-100-hogares/) |\n",
    "| 02 | Penetración por hogares nacional de Internet fijo | PENET-POR-HOGAR-NACIO-DEL | [CSV](http://datosabiertos.enacom.gob.ar/rest/datastreams/281491/data.csv) | [permalink](http://datosabiertos.enacom.gob.ar/visualizations/29883/penetracion-por-hogares-nacional-de-internet-fijo/) |\n",
    "| 03 | Total nacional de accesos a Internet fijo por banda ancha y banda angosta | TOTAL-NACIO-DE-ACCES-48866 | [CSV](http://datosabiertos.enacom.gob.ar/rest/datastreams/255799/data.csv) | [permalink](http://datosabiertos.enacom.gob.ar/dataviews/240976/total-nacional-de-accesos-a-internet-fijo-por-banda-ancha-y-banda-angosta/) |\n",
    "| 04 | Accesos a banda ancha y banda angosta por provincia | BANDA-ANCHA-Y-BANDA-ANGOS | [CSV](http://datosabiertos.enacom.gob.ar/rest/datastreams/275020/data.csv) | [permalink](http://datosabiertos.enacom.gob.ar/dataviews/240974/accesos-a-banda-ancha-y-banda-angosta-por-provincia/) |\n",
    "| 05 | Serie trimestral de accesos a Internet fijo por tecnología | SERIE-TRIME-DE-ACCES-A | [CSV](http://datosabiertos.enacom.gob.ar/rest/datastreams/275029/data.csv) | [permalink](http://datosabiertos.enacom.gob.ar/visualizations/29881/serie-trimestral-de-accesos-a-internet-fijo-por-tecnologia/) |\n",
    "| 06 | Acceso a Internet fijo por tecnología y provincia | ACCES-A-INTER-FIJO-POR | [CSV](http://datosabiertos.enacom.gob.ar/rest/datastreams/255796/data.csv) | [permalink](http://datosabiertos.enacom.gob.ar/dataviews/240898/acceso-a-internet-fijo-por-tecnologia-y-provincia/) |\n",
    "| 07 | Velocidad Media de bajada de Internet fijo | VELOC-PROME-DE-BAJAD-DE | [CSV](http://datosabiertos.enacom.gob.ar/rest/datastreams/288059/data.csv) | [permalink](http://datosabiertos.enacom.gob.ar/visualizations/31361/velocidad-media-de-bajada-de-internet-fijo/) |\n",
    "| 08 | Velocidad media de bajada de Internet fijo por provincia | VELOC-PROME-DE-BAJAD-DE | [CSV](http://datosabiertos.enacom.gob.ar/rest/datastreams/290237/data.csv) | [permalink](http://datosabiertos.enacom.gob.ar/dataviews/245546/velocidad-media-de-bajada-de-internet-fijo-por-provincia/) |\n",
    "| 09 | Distribución de los accesos totales nacionales a Internet fijo por velocidad | DISTR-DE-LOS-ACCES-76145 | [CSV](http://datosabiertos.enacom.gob.ar/rest/datastreams/280921/data.csv) | [permalink](http://datosabiertos.enacom.gob.ar/visualizations/31743/distribucion-de-los-accesos-totales-nacionales-a-internet-fijo-por-velocidad/) |\n",
    "| 10 | Acceso a Internet Fijo por rangos de velocidad de bajada y provincia | ACCES-A-INTER-FIJO-23248 | [CSV](http://datosabiertos.enacom.gob.ar/rest/datastreams/275026/data.csv) | [permalink](http://datosabiertos.enacom.gob.ar/dataviews/240904/acceso-a-internet-fijo-por-rangos-de-velocidad-de-bajada-y-provincia/) |\n",
    "| 11 | Accesos a Internet fijo por velocidad bajada  y provincia | ACCES-A-INTER-FIJO-97624 | [CSV](http://datosabiertos.enacom.gob.ar/rest/datastreams/279174/data.csv) | [permalink](http://datosabiertos.enacom.gob.ar/dataviews/248812/accesos-a-internet-fijo-por-velocidad-bajada-y-provincia/) |\n",
    "| 12 | Ingresos trimestrales por la prestación del servicio de Internet fijo | INGRE-TRIME-POR-LA-PREST | [CSV](http://datosabiertos.enacom.gob.ar/rest/datastreams/275023/data.csv) | [permalink](http://datosabiertos.enacom.gob.ar/visualizations/29879/ingresos-trimestrales-por-la-prestacion-del-servicio-de-internet-fijo/) |\n",
    "| 13 | Accesos a Internet fijo por velocidad de bajada y localidad | ACCES-A-INTER-FIJO-16249 | [CSV](http://datosabiertos.enacom.gob.ar/rest/datastreams/277617/data.csv) | [permalink](http://datosabiertos.enacom.gob.ar/dataviews/252829/accesos-a-internet-fijo-por-velocidad-de-bajada-y-localidad/) |\n",
    "| 14 | Accesos a Internet fijo por tecnología y localidad | ACCES-A-INTER-FIJO-62463 | [CSV](http://datosabiertos.enacom.gob.ar/rest/datastreams/279175/data.csv) | [permalink](http://datosabiertos.enacom.gob.ar/dataviews/252830/accesos-a-internet-fijo-por-tecnologia-y-localidad/) |\n",
    "| 15 | Listado de localidades con conectividad a internet. | LISTA-DE-LOCAL-CON-CONEC | [CSV](http://datosabiertos.enacom.gob.ar/rest/datastreams/275022/data.csv) | [permalink](http://datosabiertos.enacom.gob.ar/dataviews/251962/listado-de-localidades-con-conectividad-a-internet/) |\n",
    "| 16 | Conectividad al servicio de Internet | CONEC-AL-SERVI-DE-INTER | [CSV](http://datosabiertos.enacom.gob.ar/rest/datastreams/277615/data.csv) | [permalink](http://datosabiertos.enacom.gob.ar/visualizations/29951/conectividad-al-servicio-de-internet/) |  \n",
    "\n",
    "<br/>\n",
    "  \n",
    "  \n",
    ">Aclaración sobre el cálculo de la velocidad promedio de bajada de Internet fijo en Argentina\n",
    "\n",
    "Hasta el tercer trimestre de 2017 los operadores del servicio de Internet fijo reportaban a ENACOM (antes AFTIC y CNC) el número de accesos entre los siguientes rangos de velocidad:\n",
    "\n",
    "    Hasta 512 kbps\n",
    "    Entre 512 kbps y 1 Mbps\n",
    "    Entre 1 Mbps y 6 Mbps\n",
    "    Entre 6 Mbps y 10 Mbps\n",
    "    Entre 10 Mbps y 20 Mbps\n",
    "    Entre 20 Mbps y 30 Mbps\n",
    "    Más de 30 Mbps \n",
    "\n",
    "Con el fin de contar con mejor información del mercado y siguiendo metodologías internacionales de medición desde el cuarto trimestre de 2017 se solicita el número de accesos por Mbps.\n",
    "\n",
    "En consecuencia y ante el desconocimiento exacto de la distribución de los accesos entre los rangos, la velocidad promedio (VP) está calculada usando el punto medio de cada rango como muestra la siguiente fórmula:\n",
    "\n",
    "<code>VP = (0,512*AR1 + 0,7512*AR2 + 3,5*AR3 + 8*AR4 + 15*AR5 + 25*AR6 + 30*AR7)/Total de accesos reportados</code>  \n",
    "\n",
    "Donde AR1 es el total de accesos reportados para el primer rango (Hasta 512 kbps); AR2 es el total de accesos reportados para el segundo rango (Entre 512 kbps y 1 Mbps) y así sucesivamente.\n",
    "\n",
    "Desde el cuarto trimestre de 2017, VP se calcula como el promedio de las velocidades unitarias en Mbps ponderadas por el número de accesos reportados para cada velocidad.\n"
   ]
  },
  {
   "cell_type": "code",
   "execution_count": 9,
   "metadata": {},
   "outputs": [],
   "source": [
    "import pandas as pd"
   ]
  },
  {
   "cell_type": "markdown",
   "metadata": {},
   "source": [
    "**Los datasets que daban problemas de descarga directa y usando API, los hemos conseguido del drive Henry**"
   ]
  },
  {
   "cell_type": "markdown",
   "metadata": {},
   "source": [
    "___\n",
    "Pruebas de acceso a la API"
   ]
  },
  {
   "cell_type": "code",
   "execution_count": null,
   "metadata": {},
   "outputs": [],
   "source": [
    "# ejemplo \n",
    "# http://api.datosabiertos.enacom.gob.ar/api/v2/visualizations/CONEC-AL-SERVI-DE-INTER/?auth_key=YOUR_API_KEY&output=ajson"
   ]
  },
  {
   "cell_type": "code",
   "execution_count": 7,
   "metadata": {},
   "outputs": [
    {
     "name": "stdout",
     "output_type": "stream",
     "text": [
      "YeUDxAxjcw6jDPc8KDpKGuQUOVPcIDJRMKmhOSM8\n"
     ]
    }
   ],
   "source": [
    "# pip install requests\n",
    "import requests\n",
    "\n",
    "api_key = 'YeUDxAxjcw6jDPc8KDpKGuQUOVPcIDJRMKmhOSM8'\n",
    "\n",
    "print(api_key)"
   ]
  },
  {
   "cell_type": "code",
   "execution_count": null,
   "metadata": {},
   "outputs": [],
   "source": [
    "# https://datosabiertos.enacom.gob.ar/developers/\n",
    "# API key:\n",
    "# auth_key = 'YeUDxAxjcw6jDPc8KDpKGuQUOVPcIDJRMKmhOSM8'\n",
    "auth_key = api_key\n",
    "GUID = ['ACCES-A-INTER','PENET-DE-INTER-FIJO-57760']\n",
    "formato = '.ajson'\n",
    "url = f\"http://api.datosabiertos.enacom.gob.ar/api/v2/dashboards/{GUID[1]}/?auth_key={auth_key}&output={formato}\""
   ]
  },
  {
   "cell_type": "code",
   "execution_count": 12,
   "metadata": {},
   "outputs": [
    {
     "name": "stdout",
     "output_type": "stream",
     "text": [
      "<Response [500]>\n",
      "Error al obtener los datos: 500\n"
     ]
    }
   ],
   "source": [
    " # Definir la URL de la API y la API KEY\n",
    "url = 'http://api.datosabiertos.enacom.gob.ar/api/v2/visualizations/CONEC-AL-SERVI-DE-INTER/'\n",
    "api_key = 'YOUR_API_KEY'\n",
    " # Construir los parámetros de la solicitud\n",
    "params = {\n",
    "    'auth_key': api_key,\n",
    "    'output': 'ajson'\n",
    "}\n",
    " # Realizar la solicitud a la API\n",
    "response = requests.get(url, params=params)\n",
    "\n",
    " # Verificar si la solicitud fue exitosa\n",
    "if response.status_code == 200:\n",
    "    # Leer los datos de la respuesta\n",
    "    data = response.json()\n",
    "    # Hacer algo con los datos\n",
    "    print(data)\n",
    "else:\n",
    "    # Manejar el caso de una solicitud fallida\n",
    "    print('Error al obtener los datos:', response.status_code)"
   ]
  },
  {
   "cell_type": "markdown",
   "metadata": {},
   "source": [
    "___\n",
    "Creación de un dataset de población por provincia  \n",
    "Datos extraídos de: https://www.argentina.gob.ar/sites/default/files/2020/09/cnphv2022_resultados_provisionales.pdf\n",
    "___"
   ]
  },
  {
   "cell_type": "code",
   "execution_count": 11,
   "metadata": {},
   "outputs": [],
   "source": [
    "import pandas as pd\n",
    "data = {\n",
    "    'Jurisdicción': ['Total', 'Ciudad Autónoma de Buenos Aires', 'Buenos Aires', '24 Partidos del Gran Buenos Aires',\n",
    "                     'Resto de partidos de la Provincia de Buenos Aires', 'Catamarca', 'Chaco', 'Chubut', 'Córdoba',\n",
    "                     'Corrientes', 'Entre Ríos', 'Formosa', 'Jujuy', 'La Pampa', 'La Rioja', 'Mendoza', 'Misiones',\n",
    "                     'Neuquén', 'Río Negro', 'Salta', 'San Juan', 'San Luis', 'Santa Cruz', 'Santa Fe',\n",
    "                     'Santiago del Estero', 'Tierra del Fuego, Antártida e Islas del Atlántico Sur', 'Tucumán'],\n",
    "    'Total de viviendas particulares': [17780210, 1638764, 6695273, 3714607, 2980666, 158989, 401658, 236010, 1630356,\n",
    "                                        406480, 559398, 212941, 276222, 163805, 149910, 708354, 466850, 273685, 295502,\n",
    "                                        478433, 265047, 201271, 131395, 1458652, 348705, 67091, 555419],\n",
    "    'Total de viviendas colectivas': [25501, 1946, 6535, 1383, 5152, 449, 443, 1123, 3548, 555, 1159, 232, 326, 437,\n",
    "                                      272, 1744, 652, 392, 910, 766, 387, 339, 486, 1928, 353, 137, 382],\n",
    "    'Total de población': [46044703, 3120612, 17569053, 10865182, 6703871, 429556, 1142963, 603120, 3978984, 1197553,\n",
    "                           1426426, 606041, 797955, 366022, 384607, 2014533, 1280960, 726590, 762067, 1440672, 818234,\n",
    "                           540905, 333473, 3556522, 1054028, 190641, 1703186],\n",
    "    'Población en viviendas particulares': [45767858, 3092942, 17450899, 10817508, 6633391, 427415, 1137027, 599568,\n",
    "                                            3946235, 1195538, 1416324, 604278, 797009, 364556, 383128, 2001281, 1275142,\n",
    "                                            723663, 758001, 1431838, 814856, 539868, 331707, 3535792, 1050218, 189785,\n",
    "                                            1700788],\n",
    "    'Población en viviendas colectivas (1)': [273883, 26767, 117193, 46877, 70316, 2139, 5877, 3508, 32658, 1977, 9963,\n",
    "                                              float('nan'), 864, 1462, float('nan'), 13231, 5792, 2920, float('nan'), 8590,\n",
    "                                              3357, 1033, float('nan'), 20521, 3760, float('nan'), 2341],\n",
    "    'Población en situación de calle (vía pública)': [2962, 903, 961, 797, 164, 2, 59, 44, 91, 38, 139, float('nan'), 82,\n",
    "                                                     4, float('nan'), 21, 26, 7, float('nan'), 244, 21, 4, float('nan'), 209,\n",
    "                                                     50, float('nan'), 57]\n",
    "}\n"
   ]
  },
  {
   "cell_type": "code",
   "execution_count": 12,
   "metadata": {},
   "outputs": [
    {
     "name": "stdout",
     "output_type": "stream",
     "text": [
      "                                         Jurisdicción  Total de población\n",
      "0                                               Total            46044703\n",
      "1                     Ciudad Autónoma de Buenos Aires             3120612\n",
      "2                                        Buenos Aires            17569053\n",
      "3                   24 Partidos del Gran Buenos Aires            10865182\n",
      "4   Resto de partidos de la Provincia de Buenos Aires             6703871\n",
      "5                                           Catamarca              429556\n",
      "6                                               Chaco             1142963\n",
      "7                                              Chubut              603120\n",
      "8                                             Córdoba             3978984\n",
      "9                                          Corrientes             1197553\n",
      "10                                         Entre Ríos             1426426\n",
      "11                                            Formosa              606041\n",
      "12                                              Jujuy              797955\n",
      "13                                           La Pampa              366022\n",
      "14                                           La Rioja              384607\n",
      "15                                            Mendoza             2014533\n",
      "16                                           Misiones             1280960\n",
      "17                                            Neuquén              726590\n",
      "18                                          Río Negro              762067\n",
      "19                                              Salta             1440672\n",
      "20                                           San Juan              818234\n",
      "21                                           San Luis              540905\n",
      "22                                         Santa Cruz              333473\n",
      "23                                           Santa Fe             3556522\n",
      "24                                Santiago del Estero             1054028\n",
      "25  Tierra del Fuego, Antártida e Islas del Atlánt...              190641\n",
      "26                                            Tucumán             1703186\n"
     ]
    }
   ],
   "source": [
    "df_population = pd.DataFrame(data)\n",
    "print(df_population[['Jurisdicción','Total de población']])"
   ]
  },
  {
   "cell_type": "code",
   "execution_count": 9,
   "metadata": {},
   "outputs": [
    {
     "data": {
      "text/plain": [
       "Index(['Jurisdicción', 'Total de viviendas particulares',\n",
       "       'Total de viviendas colectivas', 'Total de población',\n",
       "       'Población en viviendas particulares',\n",
       "       'Población en viviendas colectivas (1)',\n",
       "       'Población en situación de calle (vía pública)'],\n",
       "      dtype='object')"
      ]
     },
     "execution_count": 9,
     "metadata": {},
     "output_type": "execute_result"
    }
   ],
   "source": [
    "df_population.columns"
   ]
  },
  {
   "cell_type": "code",
   "execution_count": 13,
   "metadata": {},
   "outputs": [],
   "source": [
    "df_population_simple = df_population[['Jurisdicción','Total de población']]"
   ]
  },
  {
   "cell_type": "code",
   "execution_count": 14,
   "metadata": {},
   "outputs": [
    {
     "name": "stdout",
     "output_type": "stream",
     "text": [
      "                                         Jurisdicción  Total de población\n",
      "0                                               Total            46044703\n",
      "1                     Ciudad Autónoma de Buenos Aires             3120612\n",
      "2                                        Buenos Aires            17569053\n",
      "3                   24 Partidos del Gran Buenos Aires            10865182\n",
      "4   Resto de partidos de la Provincia de Buenos Aires             6703871\n",
      "5                                           Catamarca              429556\n",
      "6                                               Chaco             1142963\n",
      "7                                              Chubut              603120\n",
      "8                                             Córdoba             3978984\n",
      "9                                          Corrientes             1197553\n",
      "10                                         Entre Ríos             1426426\n",
      "11                                            Formosa              606041\n",
      "12                                              Jujuy              797955\n",
      "13                                           La Pampa              366022\n",
      "14                                           La Rioja              384607\n",
      "15                                            Mendoza             2014533\n",
      "16                                           Misiones             1280960\n",
      "17                                            Neuquén              726590\n",
      "18                                          Río Negro              762067\n",
      "19                                              Salta             1440672\n",
      "20                                           San Juan              818234\n",
      "21                                           San Luis              540905\n",
      "22                                         Santa Cruz              333473\n",
      "23                                           Santa Fe             3556522\n",
      "24                                Santiago del Estero             1054028\n",
      "25  Tierra del Fuego, Antártida e Islas del Atlánt...              190641\n",
      "26                                            Tucumán             1703186\n"
     ]
    }
   ],
   "source": [
    "print(df_population_simple)"
   ]
  },
  {
   "cell_type": "code",
   "execution_count": 15,
   "metadata": {},
   "outputs": [
    {
     "name": "stdout",
     "output_type": "stream",
     "text": [
      "                                         Jurisdicción  Total de población\n",
      "0                                               Total            46044703\n",
      "1                     Ciudad Autónoma de Buenos Aires             3120612\n",
      "2                                        Buenos Aires            17569053\n",
      "3                   24 Partidos del Gran Buenos Aires            10865182\n",
      "4   Resto de partidos de la Provincia de Buenos Aires             6703871\n",
      "5                                           Catamarca              429556\n",
      "6                                               Chaco             1142963\n",
      "7                                              Chubut              603120\n",
      "8                                             Córdoba             3978984\n",
      "9                                          Corrientes             1197553\n",
      "10                                         Entre Ríos             1426426\n",
      "11                                            Formosa              606041\n",
      "12                                              Jujuy              797955\n",
      "13                                           La Pampa              366022\n",
      "14                                           La Rioja              384607\n",
      "15                                            Mendoza             2014533\n",
      "16                                           Misiones             1280960\n",
      "17                                            Neuquén              726590\n",
      "18                                          Río Negro              762067\n",
      "19                                              Salta             1440672\n",
      "20                                           San Juan              818234\n",
      "21                                           San Luis              540905\n",
      "22                                         Santa Cruz              333473\n",
      "23                                           Santa Fe             3556522\n",
      "24                                Santiago del Estero             1054028\n",
      "25                                   Tierra del Fuego              190641\n",
      "26                                            Tucumán             1703186\n"
     ]
    }
   ],
   "source": [
    "# Cambiamos el valor de 'Jurisdicción' Tierra del Fuego, Antártida... por solo 'Tierra del Fuego'\n",
    "df_population_simple.loc[df_population_simple['Jurisdicción'] == 'Tierra del Fuego, Antártida e Islas del Atlántico Sur', 'Jurisdicción'] = 'Tierra del Fuego'\n",
    "print(df_population_simple)\n",
    "\n",
    "\n"
   ]
  },
  {
   "cell_type": "code",
   "execution_count": 16,
   "metadata": {},
   "outputs": [
    {
     "name": "stdout",
     "output_type": "stream",
     "text": [
      "                       Jurisdicción  Total de población\n",
      "0                             Total            46044703\n",
      "1   Ciudad Autónoma de Buenos Aires             3120612\n",
      "2                      Buenos Aires            17569053\n",
      "5                         Catamarca              429556\n",
      "6                             Chaco             1142963\n",
      "7                            Chubut              603120\n",
      "8                           Córdoba             3978984\n",
      "9                        Corrientes             1197553\n",
      "10                       Entre Ríos             1426426\n",
      "11                          Formosa              606041\n",
      "12                            Jujuy              797955\n",
      "13                         La Pampa              366022\n",
      "14                         La Rioja              384607\n",
      "15                          Mendoza             2014533\n",
      "16                         Misiones             1280960\n",
      "17                          Neuquén              726590\n",
      "18                        Río Negro              762067\n",
      "19                            Salta             1440672\n",
      "20                         San Juan              818234\n",
      "21                         San Luis              540905\n",
      "22                       Santa Cruz              333473\n",
      "23                         Santa Fe             3556522\n",
      "24              Santiago del Estero             1054028\n",
      "25                 Tierra del Fuego              190641\n",
      "26                          Tucumán             1703186\n"
     ]
    }
   ],
   "source": [
    "# Eliminamos las filas 3 y 4 correspondientes a los Partidos del Gran BA y el resto...\n",
    "# ya que son suma de la fila 2\n",
    "df_population_simple = df_population_simple.drop([3,4])\n",
    "\n",
    "print(df_population_simple)"
   ]
  },
  {
   "cell_type": "code",
   "execution_count": 17,
   "metadata": {},
   "outputs": [
    {
     "name": "stdout",
     "output_type": "stream",
     "text": [
      "                       Jurisdicción  Total de población\n",
      "1   Ciudad Autónoma de Buenos Aires             3120612\n",
      "2                      Buenos Aires            17569053\n",
      "5                         Catamarca              429556\n",
      "6                             Chaco             1142963\n",
      "7                            Chubut              603120\n",
      "8                           Córdoba             3978984\n",
      "9                        Corrientes             1197553\n",
      "10                       Entre Ríos             1426426\n",
      "11                          Formosa              606041\n",
      "12                            Jujuy              797955\n",
      "13                         La Pampa              366022\n",
      "14                         La Rioja              384607\n",
      "15                          Mendoza             2014533\n",
      "16                         Misiones             1280960\n",
      "17                          Neuquén              726590\n",
      "18                        Río Negro              762067\n",
      "19                            Salta             1440672\n",
      "20                         San Juan              818234\n",
      "21                         San Luis              540905\n",
      "22                       Santa Cruz              333473\n",
      "23                         Santa Fe             3556522\n",
      "24              Santiago del Estero             1054028\n",
      "25                 Tierra del Fuego              190641\n",
      "26                          Tucumán             1703186\n"
     ]
    }
   ],
   "source": [
    "# Finalmente eliminamos la fila 0, la del Total Nacional\n",
    "df_population_simple = df_population_simple.drop(0)\n",
    "\n",
    "print(df_population_simple)\n",
    " "
   ]
  },
  {
   "cell_type": "code",
   "execution_count": 18,
   "metadata": {},
   "outputs": [],
   "source": [
    "# Antes de exportar el data set de population_simple cambiamos los nombres de las columnas\n",
    "df_population_simple.rename(columns={'Jurisdicción':'Provincia', 'Total de población':'Population'}, inplace=True)"
   ]
  },
  {
   "cell_type": "code",
   "execution_count": 20,
   "metadata": {},
   "outputs": [
    {
     "name": "stdout",
     "output_type": "stream",
     "text": [
      "                          Provincia  Population\n",
      "1   CIUDAD AUTÓNOMA DE BUENOS AIRES     3120612\n",
      "2                      BUENOS AIRES    17569053\n",
      "5                         CATAMARCA      429556\n",
      "6                             CHACO     1142963\n",
      "7                            CHUBUT      603120\n",
      "8                           CÓRDOBA     3978984\n",
      "9                        CORRIENTES     1197553\n",
      "10                       ENTRE RÍOS     1426426\n",
      "11                          FORMOSA      606041\n",
      "12                            JUJUY      797955\n",
      "13                         LA PAMPA      366022\n",
      "14                         LA RIOJA      384607\n",
      "15                          MENDOZA     2014533\n",
      "16                         MISIONES     1280960\n",
      "17                          NEUQUÉN      726590\n",
      "18                        RÍO NEGRO      762067\n",
      "19                            SALTA     1440672\n",
      "20                         SAN JUAN      818234\n",
      "21                         SAN LUIS      540905\n",
      "22                       SANTA CRUZ      333473\n",
      "23                         SANTA FE     3556522\n",
      "24              SANTIAGO DEL ESTERO     1054028\n",
      "25                 TIERRA DEL FUEGO      190641\n",
      "26                          TUCUMÁN     1703186\n"
     ]
    }
   ],
   "source": [
    "# Capitalizamos los valores de 'Provincia'\n",
    "df_population_simple['Provincia'] = df_population_simple['Provincia'].str.upper()\n",
    "print(df_population_simple)"
   ]
  },
  {
   "cell_type": "code",
   "execution_count": 23,
   "metadata": {},
   "outputs": [],
   "source": [
    "df_population_simple.to_parquet('./datos_tratados/population.parquet')"
   ]
  },
  {
   "cell_type": "code",
   "execution_count": 24,
   "metadata": {},
   "outputs": [],
   "source": [
    "df_1 = pd.read_parquet('./datos_tratados/df15(tecnoXprov).parquet')\n",
    "df_2 = pd.read_parquet('./datos_tratados/population.parquet')"
   ]
  },
  {
   "cell_type": "code",
   "execution_count": 26,
   "metadata": {},
   "outputs": [
    {
     "name": "stdout",
     "output_type": "stream",
     "text": [
      "Index(['Provincia', 'ADSL', 'CABLEMODEM', 'DIALUP', 'FIBRAOPTICA', '4G', '3G',\n",
      "       'TELEFONIAFIJA', 'WIRELESS', 'SATELITAL'],\n",
      "      dtype='object')\n",
      "(24, 10)\n"
     ]
    }
   ],
   "source": [
    "print(df_1.columns)\n",
    "print(df_1.shape)"
   ]
  },
  {
   "cell_type": "code",
   "execution_count": 27,
   "metadata": {},
   "outputs": [
    {
     "name": "stdout",
     "output_type": "stream",
     "text": [
      "Index(['Provincia', 'Population'], dtype='object')\n",
      "(24, 2)\n"
     ]
    }
   ],
   "source": [
    "print(df_2.columns)\n",
    "print(df_2.shape)"
   ]
  },
  {
   "cell_type": "code",
   "execution_count": 29,
   "metadata": {},
   "outputs": [
    {
     "name": "stdout",
     "output_type": "stream",
     "text": [
      "0            BUENOS AIRES\n",
      "1                    CABA\n",
      "2               CATAMARCA\n",
      "3                   CHACO\n",
      "4                  CHUBUT\n",
      "5                 CORDOBA\n",
      "6              CORRIENTES\n",
      "7              ENTRE RIOS\n",
      "8                 FORMOSA\n",
      "9                   JUJUY\n",
      "10               LA PAMPA\n",
      "11               LA RIOJA\n",
      "12                MENDOZA\n",
      "13               MISIONES\n",
      "14                NEUQUEN\n",
      "15              RIO NEGRO\n",
      "16                  SALTA\n",
      "17               SAN JUAN\n",
      "18               SAN LUIS\n",
      "19             SANTA CRUZ\n",
      "20               SANTA FE\n",
      "21    SANTIAGO DEL ESTERO\n",
      "22       TIERRA DEL FUEGO\n",
      "23                TUCUMAN\n",
      "Name: Provincia, dtype: object\n"
     ]
    }
   ],
   "source": [
    "print(df_1['Provincia'])"
   ]
  },
  {
   "cell_type": "code",
   "execution_count": 32,
   "metadata": {},
   "outputs": [
    {
     "name": "stdout",
     "output_type": "stream",
     "text": [
      "                          Provincia  ADSL  CABLEMODEM  DIALUP  FIBRAOPTICA  \\\n",
      "0                      BUENOS AIRES   355         345     213          443   \n",
      "1   CIUDAD AUTÓNOMA DE BUENOS AIRES    48          48      48           48   \n",
      "2                         CATAMARCA     7           3       1           23   \n",
      "3                             CHACO    28          14       1           45   \n",
      "4                            CHUBUT    13          11      15           13   \n",
      "5                           CÓRDOBA   181          89       5          172   \n",
      "6                        CORRIENTES    21           9       1           12   \n",
      "7                        ENTRE RÍOS    47          39       4           44   \n",
      "8                           FORMOSA    13           3       0           16   \n",
      "9                             JUJUY    20          15       0           44   \n",
      "10                         LA PAMPA    10          18      13           50   \n",
      "11                         LA RIOJA    13          22       1           29   \n",
      "12                          MENDOZA    30          18      28           77   \n",
      "13                         MISIONES    29          25       0           39   \n",
      "14                          NEUQUÉN    17          10      17           19   \n",
      "15                        RÍO NEGRO    23          12      21           45   \n",
      "16                            SALTA    32          19       1           86   \n",
      "17                         SAN JUAN     9           1      11           12   \n",
      "18                         SAN LUIS    10           7       9           20   \n",
      "19                       SANTA CRUZ     5           5       7            9   \n",
      "20                         SANTA FE   175         133       3          132   \n",
      "21              SANTIAGO DEL ESTERO    14          19       1           46   \n",
      "22                 TIERRA DEL FUEGO     3           2       2            2   \n",
      "23                          TUCUMÁN    30           9       1           20   \n",
      "\n",
      "     4G   3G  TELEFONIAFIJA  WIRELESS  SATELITAL  \n",
      "0   655  590            548       497        157  \n",
      "1    48   48             48        48         48  \n",
      "2    57   29             31        33         48  \n",
      "3    75   44             47        46         43  \n",
      "4    38   31             54        31         49  \n",
      "5   344  277            310       292         73  \n",
      "6    70   39             51        45         55  \n",
      "7   128   78            128       130         22  \n",
      "8    42   16             30        59         23  \n",
      "9    45   28             36        39         44  \n",
      "10   47   31             69        68         60  \n",
      "11   36   14             35        53         16  \n",
      "12  128  118             74       106         19  \n",
      "13   86   40             59        49         26  \n",
      "14   34   20             41        42         36  \n",
      "15   65   55             52        80         69  \n",
      "16   88   43             54        70         67  \n",
      "17   49   41             40        73         18  \n",
      "18   41   28             41        88         18  \n",
      "19   16   15             17        11         22  \n",
      "20  296  179            290       250         66  \n",
      "21   91   41             44        79         81  \n",
      "22    6    5              3         3          4  \n",
      "23   89   70             60        50         15  \n"
     ]
    }
   ],
   "source": [
    "# Antes de unir ambos df reemplazo los nombres que no coinciden\n",
    "\n",
    "reemplazar = {\n",
    "    'CABA' : 'CIUDAD AUTÓNOMA DE BUENOS AIRES',\n",
    "    'CORDOBA' : 'CÓRDOBA',\n",
    "    'ENTRE RIOS' : 'ENTRE RÍOS',\n",
    "    'NEUQUEN' : 'NEUQUÉN',\n",
    "    'RIO NEGRO' : 'RÍO NEGRO',\n",
    "    'TUCUMAN' : 'TUCUMÁN',\n",
    "}\n",
    "\n",
    "df_1['Provincia'] = df_1['Provincia'].replace(reemplazar)\n",
    "print(df_1)"
   ]
  },
  {
   "cell_type": "code",
   "execution_count": 30,
   "metadata": {},
   "outputs": [
    {
     "name": "stdout",
     "output_type": "stream",
     "text": [
      "1     CIUDAD AUTÓNOMA DE BUENOS AIRES\n",
      "2                        BUENOS AIRES\n",
      "5                           CATAMARCA\n",
      "6                               CHACO\n",
      "7                              CHUBUT\n",
      "8                             CÓRDOBA\n",
      "9                          CORRIENTES\n",
      "10                         ENTRE RÍOS\n",
      "11                            FORMOSA\n",
      "12                              JUJUY\n",
      "13                           LA PAMPA\n",
      "14                           LA RIOJA\n",
      "15                            MENDOZA\n",
      "16                           MISIONES\n",
      "17                            NEUQUÉN\n",
      "18                          RÍO NEGRO\n",
      "19                              SALTA\n",
      "20                           SAN JUAN\n",
      "21                           SAN LUIS\n",
      "22                         SANTA CRUZ\n",
      "23                           SANTA FE\n",
      "24                SANTIAGO DEL ESTERO\n",
      "25                   TIERRA DEL FUEGO\n",
      "26                            TUCUMÁN\n",
      "Name: Provincia, dtype: object\n"
     ]
    }
   ],
   "source": [
    "print(df_2['Provincia'])"
   ]
  },
  {
   "cell_type": "code",
   "execution_count": 33,
   "metadata": {},
   "outputs": [
    {
     "name": "stdout",
     "output_type": "stream",
     "text": [
      "                          Provincia  ADSL  CABLEMODEM  DIALUP  FIBRAOPTICA  \\\n",
      "0                      BUENOS AIRES   355         345     213          443   \n",
      "1   CIUDAD AUTÓNOMA DE BUENOS AIRES    48          48      48           48   \n",
      "2                         CATAMARCA     7           3       1           23   \n",
      "3                             CHACO    28          14       1           45   \n",
      "4                            CHUBUT    13          11      15           13   \n",
      "5                           CÓRDOBA   181          89       5          172   \n",
      "6                        CORRIENTES    21           9       1           12   \n",
      "7                        ENTRE RÍOS    47          39       4           44   \n",
      "8                           FORMOSA    13           3       0           16   \n",
      "9                             JUJUY    20          15       0           44   \n",
      "10                         LA PAMPA    10          18      13           50   \n",
      "11                         LA RIOJA    13          22       1           29   \n",
      "12                          MENDOZA    30          18      28           77   \n",
      "13                         MISIONES    29          25       0           39   \n",
      "14                          NEUQUÉN    17          10      17           19   \n",
      "15                        RÍO NEGRO    23          12      21           45   \n",
      "16                            SALTA    32          19       1           86   \n",
      "17                         SAN JUAN     9           1      11           12   \n",
      "18                         SAN LUIS    10           7       9           20   \n",
      "19                       SANTA CRUZ     5           5       7            9   \n",
      "20                         SANTA FE   175         133       3          132   \n",
      "21              SANTIAGO DEL ESTERO    14          19       1           46   \n",
      "22                 TIERRA DEL FUEGO     3           2       2            2   \n",
      "23                          TUCUMÁN    30           9       1           20   \n",
      "\n",
      "     4G   3G  TELEFONIAFIJA  WIRELESS  SATELITAL  Population  \n",
      "0   655  590            548       497        157    17569053  \n",
      "1    48   48             48        48         48     3120612  \n",
      "2    57   29             31        33         48      429556  \n",
      "3    75   44             47        46         43     1142963  \n",
      "4    38   31             54        31         49      603120  \n",
      "5   344  277            310       292         73     3978984  \n",
      "6    70   39             51        45         55     1197553  \n",
      "7   128   78            128       130         22     1426426  \n",
      "8    42   16             30        59         23      606041  \n",
      "9    45   28             36        39         44      797955  \n",
      "10   47   31             69        68         60      366022  \n",
      "11   36   14             35        53         16      384607  \n",
      "12  128  118             74       106         19     2014533  \n",
      "13   86   40             59        49         26     1280960  \n",
      "14   34   20             41        42         36      726590  \n",
      "15   65   55             52        80         69      762067  \n",
      "16   88   43             54        70         67     1440672  \n",
      "17   49   41             40        73         18      818234  \n",
      "18   41   28             41        88         18      540905  \n",
      "19   16   15             17        11         22      333473  \n",
      "20  296  179            290       250         66     3556522  \n",
      "21   91   41             44        79         81     1054028  \n",
      "22    6    5              3         3          4      190641  \n",
      "23   89   70             60        50         15     1703186  \n"
     ]
    }
   ],
   "source": [
    "merged_df = pd.merge(df_1, df_2, on='Provincia', how='inner')\n",
    "print(merged_df)"
   ]
  },
  {
   "cell_type": "code",
   "execution_count": null,
   "metadata": {},
   "outputs": [],
   "source": [
    "# finalmente exportamos el dataframe a fichero .parquet para su posterios uso en Power BI\n",
    "merged_df.to_parquet('./datos_tratados/df15_tecn_prov_popu.parquet')"
   ]
  }
 ],
 "metadata": {
  "kernelspec": {
   "display_name": "Python 3",
   "language": "python",
   "name": "python3"
  },
  "language_info": {
   "codemirror_mode": {
    "name": "ipython",
    "version": 3
   },
   "file_extension": ".py",
   "mimetype": "text/x-python",
   "name": "python",
   "nbconvert_exporter": "python",
   "pygments_lexer": "ipython3",
   "version": "3.11.0"
  },
  "orig_nbformat": 4
 },
 "nbformat": 4,
 "nbformat_minor": 2
}
