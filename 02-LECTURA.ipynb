{
 "cells": [
  {
   "cell_type": "markdown",
   "metadata": {},
   "source": [
    "# Paso 02 - Carga de los datos y su comprensión\n",
    "Los datos descargados en formato .csv se encuentran en la carpeta `datos_originales`"
   ]
  },
  {
   "cell_type": "code",
   "execution_count": 61,
   "metadata": {},
   "outputs": [],
   "source": [
    "import pandas as pd\n",
    "import os\n",
    "\n",
    "path = 'datos_originales'\n",
    "files = os.listdir(path)\n",
    "\n",
    "dfs = []  #Lista para guardar los nombres de los dataframes creados\n",
    "\n",
    "\n",
    "for file in files:\n",
    "    if file.endswith('.csv'):\n",
    "        name = file.split('.')[0]\n",
    "        df_name = 'df_' + name\n",
    "        globals()[df_name] = pd.read_csv(os.path.join(path, file), on_bad_lines='skip')\n",
    "        dfs.append(df_name)"
   ]
  },
  {
   "cell_type": "code",
   "execution_count": 62,
   "metadata": {},
   "outputs": [
    {
     "name": "stdout",
     "output_type": "stream",
     "text": [
      "['df_01_Internet_Penetracion', 'df_02_Internet_Penetracion', 'df_03_Internet_BAF', 'df_04_Internet_BAF', 'df_05_Internet_Accesos-por-tecnologia', 'df_06_internet_tecno_prov', 'df_07_historico_velocidad_internet', 'df_08_historico_velocidad_internet_provincia', 'df_09_Internet_Accesos-por-velocidad', 'df_10_Internet_Accesos-por-velocidad', 'df_12_Internet_Ingresos', 'df_13_AccesosaInternetfijoporvelocidaddebajadaylocalidad_2776171689452943315', 'df_14_AccesosaInternetfijoportecnologiaylocalidad_2791751688513004191', 'df_15_Listadodelocalidadesconconectividadainternet_2750221689453131271', 'df_16_ConectividadalserviciodeInternet_2776151689453170851']\n"
     ]
    }
   ],
   "source": [
    "print(dfs)"
   ]
  },
  {
   "cell_type": "code",
   "execution_count": 63,
   "metadata": {},
   "outputs": [
    {
     "name": "stdout",
     "output_type": "stream",
     "text": [
      "df_01_Internet_Penetracion: (840, 4)\n",
      "df_02_Internet_Penetracion: (35, 5)\n",
      "df_03_Internet_BAF: (35, 6)\n",
      "df_04_Internet_BAF: (840, 6)\n",
      "df_05_Internet_Accesos-por-tecnologia: (35, 9)\n",
      "df_06_internet_tecno_prov: (841, 10)\n",
      "df_07_historico_velocidad_internet: (35, 4)\n",
      "df_08_historico_velocidad_internet_provincia: (840, 5)\n",
      "df_09_Internet_Accesos-por-velocidad: (831, 1)\n",
      "df_10_Internet_Accesos-por-velocidad: (840, 12)\n",
      "df_12_Internet_Ingresos: (35, 4)\n",
      "df_13_AccesosaInternetfijoporvelocidaddebajadaylocalidad_2776171689452943315: (3098, 83)\n",
      "df_14_AccesosaInternetfijoportecnologiaylocalidad_2791751688513004191: (3142, 14)\n",
      "df_15_Listadodelocalidadesconconectividadainternet_2750221689453131271: (4312, 12)\n",
      "df_16_ConectividadalserviciodeInternet_2776151689453170851: (4312, 16)\n"
     ]
    }
   ],
   "source": [
    "for name in dfs:\n",
    "    df = globals()[name]\n",
    "    print(f'{name}: {df.shape}')"
   ]
  },
  {
   "cell_type": "code",
   "execution_count": 64,
   "metadata": {},
   "outputs": [],
   "source": [
    "# el fichero df_09 no se cargó bien, solo aparenta tener una columna y tras revisarlo vemos que está separado por ;\n",
    "df09 = pd.read_csv('./datos_originales/09_Internet_Accesos-por-velocidad.csv', sep=';', thousands=\",\")"
   ]
  },
  {
   "cell_type": "code",
   "execution_count": 65,
   "metadata": {},
   "outputs": [
    {
     "data": {
      "text/plain": [
       "Año                      int64\n",
       "Trimestre                int64\n",
       "Provincia               object\n",
       "HASTA 512 kbps           int64\n",
       "+ 512 Kbps - 1 Mbps      int64\n",
       "+ 1 Mbps - 6 Mbps        int64\n",
       "+ 6 Mbps - 10 Mbps       int64\n",
       "+ 10 Mbps - 20 Mbps      int64\n",
       "+ 20 Mbps - 30 Mbps      int64\n",
       "+ 30 Mbps                int64\n",
       "OTROS                  float64\n",
       "Total                    int64\n",
       "Unnamed: 12            float64\n",
       "Unnamed: 13            float64\n",
       "Unnamed: 14            float64\n",
       "Unnamed: 15            float64\n",
       "Unnamed: 16            float64\n",
       "Unnamed: 17            float64\n",
       "Unnamed: 18            float64\n",
       "Unnamed: 19            float64\n",
       "Unnamed: 20            float64\n",
       "Unnamed: 21            float64\n",
       "Unnamed: 22            float64\n",
       "Unnamed: 23            float64\n",
       "dtype: object"
      ]
     },
     "execution_count": 65,
     "metadata": {},
     "output_type": "execute_result"
    }
   ],
   "source": [
    "df09.dtypes"
   ]
  },
  {
   "cell_type": "code",
   "execution_count": 66,
   "metadata": {},
   "outputs": [
    {
     "data": {
      "text/html": [
       "<div>\n",
       "<style scoped>\n",
       "    .dataframe tbody tr th:only-of-type {\n",
       "        vertical-align: middle;\n",
       "    }\n",
       "\n",
       "    .dataframe tbody tr th {\n",
       "        vertical-align: top;\n",
       "    }\n",
       "\n",
       "    .dataframe thead th {\n",
       "        text-align: right;\n",
       "    }\n",
       "</style>\n",
       "<table border=\"1\" class=\"dataframe\">\n",
       "  <thead>\n",
       "    <tr style=\"text-align: right;\">\n",
       "      <th></th>\n",
       "      <th>Año</th>\n",
       "      <th>Trimestre</th>\n",
       "      <th>Provincia</th>\n",
       "      <th>HASTA 512 kbps</th>\n",
       "      <th>+ 512 Kbps - 1 Mbps</th>\n",
       "      <th>+ 1 Mbps - 6 Mbps</th>\n",
       "      <th>+ 6 Mbps - 10 Mbps</th>\n",
       "      <th>+ 10 Mbps - 20 Mbps</th>\n",
       "      <th>+ 20 Mbps - 30 Mbps</th>\n",
       "      <th>+ 30 Mbps</th>\n",
       "      <th>OTROS</th>\n",
       "      <th>Total</th>\n",
       "      <th>Unnamed: 12</th>\n",
       "      <th>Unnamed: 13</th>\n",
       "      <th>Unnamed: 14</th>\n",
       "      <th>Unnamed: 15</th>\n",
       "      <th>Unnamed: 16</th>\n",
       "      <th>Unnamed: 17</th>\n",
       "      <th>Unnamed: 18</th>\n",
       "      <th>Unnamed: 19</th>\n",
       "      <th>Unnamed: 20</th>\n",
       "      <th>Unnamed: 21</th>\n",
       "      <th>Unnamed: 22</th>\n",
       "      <th>Unnamed: 23</th>\n",
       "    </tr>\n",
       "  </thead>\n",
       "  <tbody>\n",
       "    <tr>\n",
       "      <th>823</th>\n",
       "      <td>2014</td>\n",
       "      <td>1</td>\n",
       "      <td>Entre Ríos</td>\n",
       "      <td>2177</td>\n",
       "      <td>35206</td>\n",
       "      <td>85248</td>\n",
       "      <td>10828</td>\n",
       "      <td>746</td>\n",
       "      <td>0</td>\n",
       "      <td>43</td>\n",
       "      <td>0.0</td>\n",
       "      <td>134248</td>\n",
       "      <td>NaN</td>\n",
       "      <td>NaN</td>\n",
       "      <td>NaN</td>\n",
       "      <td>NaN</td>\n",
       "      <td>NaN</td>\n",
       "      <td>NaN</td>\n",
       "      <td>NaN</td>\n",
       "      <td>NaN</td>\n",
       "      <td>NaN</td>\n",
       "      <td>NaN</td>\n",
       "      <td>NaN</td>\n",
       "      <td>NaN</td>\n",
       "    </tr>\n",
       "    <tr>\n",
       "      <th>95</th>\n",
       "      <td>2021</td>\n",
       "      <td>4</td>\n",
       "      <td>Tucumán</td>\n",
       "      <td>39</td>\n",
       "      <td>97</td>\n",
       "      <td>37321</td>\n",
       "      <td>48736</td>\n",
       "      <td>21023</td>\n",
       "      <td>5326</td>\n",
       "      <td>125857</td>\n",
       "      <td>240.0</td>\n",
       "      <td>238639</td>\n",
       "      <td>NaN</td>\n",
       "      <td>NaN</td>\n",
       "      <td>NaN</td>\n",
       "      <td>NaN</td>\n",
       "      <td>NaN</td>\n",
       "      <td>NaN</td>\n",
       "      <td>NaN</td>\n",
       "      <td>NaN</td>\n",
       "      <td>NaN</td>\n",
       "      <td>NaN</td>\n",
       "      <td>NaN</td>\n",
       "      <td>NaN</td>\n",
       "    </tr>\n",
       "    <tr>\n",
       "      <th>602</th>\n",
       "      <td>2016</td>\n",
       "      <td>2</td>\n",
       "      <td>Catamarca</td>\n",
       "      <td>15</td>\n",
       "      <td>5736</td>\n",
       "      <td>14742</td>\n",
       "      <td>4567</td>\n",
       "      <td>1496</td>\n",
       "      <td>47</td>\n",
       "      <td>1</td>\n",
       "      <td>0.0</td>\n",
       "      <td>26604</td>\n",
       "      <td>NaN</td>\n",
       "      <td>NaN</td>\n",
       "      <td>NaN</td>\n",
       "      <td>NaN</td>\n",
       "      <td>NaN</td>\n",
       "      <td>NaN</td>\n",
       "      <td>NaN</td>\n",
       "      <td>NaN</td>\n",
       "      <td>NaN</td>\n",
       "      <td>NaN</td>\n",
       "      <td>NaN</td>\n",
       "      <td>NaN</td>\n",
       "    </tr>\n",
       "    <tr>\n",
       "      <th>282</th>\n",
       "      <td>2019</td>\n",
       "      <td>4</td>\n",
       "      <td>San Luis</td>\n",
       "      <td>105</td>\n",
       "      <td>0</td>\n",
       "      <td>11901</td>\n",
       "      <td>4164</td>\n",
       "      <td>525</td>\n",
       "      <td>55216</td>\n",
       "      <td>3</td>\n",
       "      <td>36287.0</td>\n",
       "      <td>108201</td>\n",
       "      <td>NaN</td>\n",
       "      <td>NaN</td>\n",
       "      <td>NaN</td>\n",
       "      <td>NaN</td>\n",
       "      <td>NaN</td>\n",
       "      <td>NaN</td>\n",
       "      <td>NaN</td>\n",
       "      <td>NaN</td>\n",
       "      <td>NaN</td>\n",
       "      <td>NaN</td>\n",
       "      <td>NaN</td>\n",
       "      <td>NaN</td>\n",
       "    </tr>\n",
       "    <tr>\n",
       "      <th>379</th>\n",
       "      <td>2018</td>\n",
       "      <td>4</td>\n",
       "      <td>Santa Cruz</td>\n",
       "      <td>25</td>\n",
       "      <td>115</td>\n",
       "      <td>23107</td>\n",
       "      <td>779</td>\n",
       "      <td>206</td>\n",
       "      <td>1</td>\n",
       "      <td>4</td>\n",
       "      <td>531.0</td>\n",
       "      <td>24768</td>\n",
       "      <td>NaN</td>\n",
       "      <td>NaN</td>\n",
       "      <td>NaN</td>\n",
       "      <td>NaN</td>\n",
       "      <td>NaN</td>\n",
       "      <td>NaN</td>\n",
       "      <td>NaN</td>\n",
       "      <td>NaN</td>\n",
       "      <td>NaN</td>\n",
       "      <td>NaN</td>\n",
       "      <td>NaN</td>\n",
       "      <td>NaN</td>\n",
       "    </tr>\n",
       "    <tr>\n",
       "      <th>199</th>\n",
       "      <td>2020</td>\n",
       "      <td>3</td>\n",
       "      <td>Entre Ríos</td>\n",
       "      <td>130</td>\n",
       "      <td>2911</td>\n",
       "      <td>66648</td>\n",
       "      <td>51478</td>\n",
       "      <td>40797</td>\n",
       "      <td>14377</td>\n",
       "      <td>49395</td>\n",
       "      <td>15759.0</td>\n",
       "      <td>241495</td>\n",
       "      <td>NaN</td>\n",
       "      <td>NaN</td>\n",
       "      <td>NaN</td>\n",
       "      <td>NaN</td>\n",
       "      <td>NaN</td>\n",
       "      <td>NaN</td>\n",
       "      <td>NaN</td>\n",
       "      <td>NaN</td>\n",
       "      <td>NaN</td>\n",
       "      <td>NaN</td>\n",
       "      <td>NaN</td>\n",
       "      <td>NaN</td>\n",
       "    </tr>\n",
       "    <tr>\n",
       "      <th>266</th>\n",
       "      <td>2019</td>\n",
       "      <td>4</td>\n",
       "      <td>Catamarca</td>\n",
       "      <td>63</td>\n",
       "      <td>0</td>\n",
       "      <td>9945</td>\n",
       "      <td>7619</td>\n",
       "      <td>9305</td>\n",
       "      <td>804</td>\n",
       "      <td>7477</td>\n",
       "      <td>3098.0</td>\n",
       "      <td>38311</td>\n",
       "      <td>NaN</td>\n",
       "      <td>NaN</td>\n",
       "      <td>NaN</td>\n",
       "      <td>NaN</td>\n",
       "      <td>NaN</td>\n",
       "      <td>NaN</td>\n",
       "      <td>NaN</td>\n",
       "      <td>NaN</td>\n",
       "      <td>NaN</td>\n",
       "      <td>NaN</td>\n",
       "      <td>NaN</td>\n",
       "      <td>NaN</td>\n",
       "    </tr>\n",
       "    <tr>\n",
       "      <th>108</th>\n",
       "      <td>2021</td>\n",
       "      <td>3</td>\n",
       "      <td>Mendoza</td>\n",
       "      <td>36</td>\n",
       "      <td>31</td>\n",
       "      <td>151871</td>\n",
       "      <td>12640</td>\n",
       "      <td>62628</td>\n",
       "      <td>7596</td>\n",
       "      <td>21087</td>\n",
       "      <td>50.0</td>\n",
       "      <td>255939</td>\n",
       "      <td>NaN</td>\n",
       "      <td>NaN</td>\n",
       "      <td>NaN</td>\n",
       "      <td>NaN</td>\n",
       "      <td>NaN</td>\n",
       "      <td>NaN</td>\n",
       "      <td>NaN</td>\n",
       "      <td>NaN</td>\n",
       "      <td>NaN</td>\n",
       "      <td>NaN</td>\n",
       "      <td>NaN</td>\n",
       "      <td>NaN</td>\n",
       "    </tr>\n",
       "  </tbody>\n",
       "</table>\n",
       "</div>"
      ],
      "text/plain": [
       "      Año  Trimestre   Provincia  HASTA 512 kbps  + 512 Kbps - 1 Mbps  \\\n",
       "823  2014          1  Entre Ríos            2177                35206   \n",
       "95   2021          4     Tucumán              39                   97   \n",
       "602  2016          2   Catamarca              15                 5736   \n",
       "282  2019          4    San Luis             105                    0   \n",
       "379  2018          4  Santa Cruz              25                  115   \n",
       "199  2020          3  Entre Ríos             130                 2911   \n",
       "266  2019          4   Catamarca              63                    0   \n",
       "108  2021          3    Mendoza               36                   31   \n",
       "\n",
       "     + 1 Mbps - 6 Mbps  + 6 Mbps - 10 Mbps  + 10 Mbps - 20 Mbps  \\\n",
       "823              85248               10828                  746   \n",
       "95               37321               48736                21023   \n",
       "602              14742                4567                 1496   \n",
       "282              11901                4164                  525   \n",
       "379              23107                 779                  206   \n",
       "199              66648               51478                40797   \n",
       "266               9945                7619                 9305   \n",
       "108             151871               12640                62628   \n",
       "\n",
       "     + 20 Mbps - 30 Mbps  + 30 Mbps    OTROS   Total  Unnamed: 12  \\\n",
       "823                    0         43      0.0  134248          NaN   \n",
       "95                  5326     125857    240.0  238639          NaN   \n",
       "602                   47          1      0.0   26604          NaN   \n",
       "282                55216          3  36287.0  108201          NaN   \n",
       "379                    1          4    531.0   24768          NaN   \n",
       "199                14377      49395  15759.0  241495          NaN   \n",
       "266                  804       7477   3098.0   38311          NaN   \n",
       "108                 7596      21087     50.0  255939          NaN   \n",
       "\n",
       "     Unnamed: 13  Unnamed: 14  Unnamed: 15  Unnamed: 16  Unnamed: 17  \\\n",
       "823          NaN          NaN          NaN          NaN          NaN   \n",
       "95           NaN          NaN          NaN          NaN          NaN   \n",
       "602          NaN          NaN          NaN          NaN          NaN   \n",
       "282          NaN          NaN          NaN          NaN          NaN   \n",
       "379          NaN          NaN          NaN          NaN          NaN   \n",
       "199          NaN          NaN          NaN          NaN          NaN   \n",
       "266          NaN          NaN          NaN          NaN          NaN   \n",
       "108          NaN          NaN          NaN          NaN          NaN   \n",
       "\n",
       "     Unnamed: 18  Unnamed: 19  Unnamed: 20  Unnamed: 21  Unnamed: 22  \\\n",
       "823          NaN          NaN          NaN          NaN          NaN   \n",
       "95           NaN          NaN          NaN          NaN          NaN   \n",
       "602          NaN          NaN          NaN          NaN          NaN   \n",
       "282          NaN          NaN          NaN          NaN          NaN   \n",
       "379          NaN          NaN          NaN          NaN          NaN   \n",
       "199          NaN          NaN          NaN          NaN          NaN   \n",
       "266          NaN          NaN          NaN          NaN          NaN   \n",
       "108          NaN          NaN          NaN          NaN          NaN   \n",
       "\n",
       "     Unnamed: 23  \n",
       "823          NaN  \n",
       "95           NaN  \n",
       "602          NaN  \n",
       "282          NaN  \n",
       "379          NaN  \n",
       "199          NaN  \n",
       "266          NaN  \n",
       "108          NaN  "
      ]
     },
     "execution_count": 66,
     "metadata": {},
     "output_type": "execute_result"
    }
   ],
   "source": [
    "pd.set_option('display.max_columns',33)\n",
    "df09.sample(8)"
   ]
  },
  {
   "cell_type": "code",
   "execution_count": 67,
   "metadata": {},
   "outputs": [
    {
     "data": {
      "text/plain": [
       "Index(['Año', 'Trimestre', 'Provincia', 'HASTA 512 kbps',\n",
       "       '+ 512 Kbps - 1 Mbps', '+ 1 Mbps - 6 Mbps', '+ 6 Mbps - 10 Mbps',\n",
       "       '+ 10 Mbps - 20 Mbps', '+ 20 Mbps - 30 Mbps', '+ 30 Mbps', 'OTROS',\n",
       "       'Total', 'Unnamed: 12', 'Unnamed: 13', 'Unnamed: 14', 'Unnamed: 15',\n",
       "       'Unnamed: 16', 'Unnamed: 17', 'Unnamed: 18', 'Unnamed: 19',\n",
       "       'Unnamed: 20', 'Unnamed: 21', 'Unnamed: 22', 'Unnamed: 23'],\n",
       "      dtype='object')"
      ]
     },
     "execution_count": 67,
     "metadata": {},
     "output_type": "execute_result"
    }
   ],
   "source": [
    "df09.columns"
   ]
  },
  {
   "cell_type": "code",
   "execution_count": 68,
   "metadata": {},
   "outputs": [],
   "source": [
    "df09 = df09[['Año', 'Trimestre', 'Provincia', 'HASTA 512 kbps',\n",
    "       '+ 512 Kbps - 1 Mbps', '+ 1 Mbps - 6 Mbps', '+ 6 Mbps - 10 Mbps',\n",
    "       '+ 10 Mbps - 20 Mbps', '+ 20 Mbps - 30 Mbps', '+ 30 Mbps', 'OTROS',\n",
    "       'Total',\n",
    "       # 'Unnamed: 12', 'Unnamed: 13', 'Unnamed: 14', 'Unnamed: 15',\n",
    "       # 'Unnamed: 16', 'Unnamed: 17', 'Unnamed: 18', 'Unnamed: 19',\n",
    "       # 'Unnamed: 20', 'Unnamed: 21', 'Unnamed: 22', 'Unnamed: 23'\n",
    "       ]].copy()"
   ]
  },
  {
   "cell_type": "code",
   "execution_count": 69,
   "metadata": {},
   "outputs": [
    {
     "data": {
      "text/html": [
       "<div>\n",
       "<style scoped>\n",
       "    .dataframe tbody tr th:only-of-type {\n",
       "        vertical-align: middle;\n",
       "    }\n",
       "\n",
       "    .dataframe tbody tr th {\n",
       "        vertical-align: top;\n",
       "    }\n",
       "\n",
       "    .dataframe thead th {\n",
       "        text-align: right;\n",
       "    }\n",
       "</style>\n",
       "<table border=\"1\" class=\"dataframe\">\n",
       "  <thead>\n",
       "    <tr style=\"text-align: right;\">\n",
       "      <th></th>\n",
       "      <th>Año</th>\n",
       "      <th>Trimestre</th>\n",
       "      <th>Provincia</th>\n",
       "      <th>HASTA 512 kbps</th>\n",
       "      <th>+ 512 Kbps - 1 Mbps</th>\n",
       "      <th>+ 1 Mbps - 6 Mbps</th>\n",
       "      <th>+ 6 Mbps - 10 Mbps</th>\n",
       "      <th>+ 10 Mbps - 20 Mbps</th>\n",
       "      <th>+ 20 Mbps - 30 Mbps</th>\n",
       "      <th>+ 30 Mbps</th>\n",
       "      <th>OTROS</th>\n",
       "      <th>Total</th>\n",
       "    </tr>\n",
       "  </thead>\n",
       "  <tbody>\n",
       "    <tr>\n",
       "      <th>111</th>\n",
       "      <td>2021</td>\n",
       "      <td>3</td>\n",
       "      <td>Río Negro</td>\n",
       "      <td>125</td>\n",
       "      <td>557</td>\n",
       "      <td>68991</td>\n",
       "      <td>3730</td>\n",
       "      <td>14880</td>\n",
       "      <td>2282</td>\n",
       "      <td>34011</td>\n",
       "      <td>20009.0</td>\n",
       "      <td>144585</td>\n",
       "    </tr>\n",
       "    <tr>\n",
       "      <th>182</th>\n",
       "      <td>2020</td>\n",
       "      <td>4</td>\n",
       "      <td>Neuquén</td>\n",
       "      <td>116</td>\n",
       "      <td>327</td>\n",
       "      <td>56434</td>\n",
       "      <td>8478</td>\n",
       "      <td>5791</td>\n",
       "      <td>5493</td>\n",
       "      <td>50776</td>\n",
       "      <td>5720.0</td>\n",
       "      <td>133135</td>\n",
       "    </tr>\n",
       "    <tr>\n",
       "      <th>629</th>\n",
       "      <td>2016</td>\n",
       "      <td>1</td>\n",
       "      <td>Córdoba</td>\n",
       "      <td>148</td>\n",
       "      <td>59484</td>\n",
       "      <td>414452</td>\n",
       "      <td>65763</td>\n",
       "      <td>66455</td>\n",
       "      <td>4143</td>\n",
       "      <td>1039</td>\n",
       "      <td>0.0</td>\n",
       "      <td>611484</td>\n",
       "    </tr>\n",
       "    <tr>\n",
       "      <th>537</th>\n",
       "      <td>2017</td>\n",
       "      <td>1</td>\n",
       "      <td>Jujuy</td>\n",
       "      <td>330</td>\n",
       "      <td>6213</td>\n",
       "      <td>27824</td>\n",
       "      <td>6486</td>\n",
       "      <td>2306</td>\n",
       "      <td>44</td>\n",
       "      <td>0</td>\n",
       "      <td>0.0</td>\n",
       "      <td>43203</td>\n",
       "    </tr>\n",
       "    <tr>\n",
       "      <th>569</th>\n",
       "      <td>2016</td>\n",
       "      <td>4</td>\n",
       "      <td>San Juan</td>\n",
       "      <td>8</td>\n",
       "      <td>220</td>\n",
       "      <td>58608</td>\n",
       "      <td>0</td>\n",
       "      <td>0</td>\n",
       "      <td>0</td>\n",
       "      <td>4</td>\n",
       "      <td>0.0</td>\n",
       "      <td>58840</td>\n",
       "    </tr>\n",
       "    <tr>\n",
       "      <th>584</th>\n",
       "      <td>2016</td>\n",
       "      <td>3</td>\n",
       "      <td>Formosa</td>\n",
       "      <td>1723</td>\n",
       "      <td>4277</td>\n",
       "      <td>15581</td>\n",
       "      <td>3964</td>\n",
       "      <td>3658</td>\n",
       "      <td>648</td>\n",
       "      <td>10</td>\n",
       "      <td>0.0</td>\n",
       "      <td>29861</td>\n",
       "    </tr>\n",
       "    <tr>\n",
       "      <th>719</th>\n",
       "      <td>2015</td>\n",
       "      <td>2</td>\n",
       "      <td>Tucumán</td>\n",
       "      <td>107</td>\n",
       "      <td>25178</td>\n",
       "      <td>83462</td>\n",
       "      <td>26966</td>\n",
       "      <td>4502</td>\n",
       "      <td>455</td>\n",
       "      <td>0</td>\n",
       "      <td>0.0</td>\n",
       "      <td>140670</td>\n",
       "    </tr>\n",
       "    <tr>\n",
       "      <th>819</th>\n",
       "      <td>2014</td>\n",
       "      <td>1</td>\n",
       "      <td>Chaco</td>\n",
       "      <td>438</td>\n",
       "      <td>15849</td>\n",
       "      <td>40869</td>\n",
       "      <td>4644</td>\n",
       "      <td>741</td>\n",
       "      <td>5</td>\n",
       "      <td>0</td>\n",
       "      <td>0.0</td>\n",
       "      <td>62546</td>\n",
       "    </tr>\n",
       "  </tbody>\n",
       "</table>\n",
       "</div>"
      ],
      "text/plain": [
       "      Año  Trimestre    Provincia  HASTA 512 kbps  + 512 Kbps - 1 Mbps  \\\n",
       "111  2021          3   Río Negro              125                  557   \n",
       "182  2020          4      Neuquén             116                  327   \n",
       "629  2016          1      Córdoba             148                59484   \n",
       "537  2017          1        Jujuy             330                 6213   \n",
       "569  2016          4     San Juan               8                  220   \n",
       "584  2016          3      Formosa            1723                 4277   \n",
       "719  2015          2      Tucumán             107                25178   \n",
       "819  2014          1        Chaco             438                15849   \n",
       "\n",
       "     + 1 Mbps - 6 Mbps  + 6 Mbps - 10 Mbps  + 10 Mbps - 20 Mbps  \\\n",
       "111              68991                3730                14880   \n",
       "182              56434                8478                 5791   \n",
       "629             414452               65763                66455   \n",
       "537              27824                6486                 2306   \n",
       "569              58608                   0                    0   \n",
       "584              15581                3964                 3658   \n",
       "719              83462               26966                 4502   \n",
       "819              40869                4644                  741   \n",
       "\n",
       "     + 20 Mbps - 30 Mbps  + 30 Mbps    OTROS   Total  \n",
       "111                 2282      34011  20009.0  144585  \n",
       "182                 5493      50776   5720.0  133135  \n",
       "629                 4143       1039      0.0  611484  \n",
       "537                   44          0      0.0   43203  \n",
       "569                    0          4      0.0   58840  \n",
       "584                  648         10      0.0   29861  \n",
       "719                  455          0      0.0  140670  \n",
       "819                    5          0      0.0   62546  "
      ]
     },
     "execution_count": 69,
     "metadata": {},
     "output_type": "execute_result"
    }
   ],
   "source": [
    "df09.sample(8)"
   ]
  },
  {
   "cell_type": "code",
   "execution_count": 70,
   "metadata": {},
   "outputs": [],
   "source": [
    "df09.to_csv('./datos_tratados/df09.csv')"
   ]
  },
  {
   "cell_type": "code",
   "execution_count": 71,
   "metadata": {},
   "outputs": [
    {
     "name": "stdout",
     "output_type": "stream",
     "text": [
      "df_01_Internet_Penetracion:\n",
      "Año                              int64\n",
      "Trimestre                        int64\n",
      "Provincia                       object\n",
      "Accesos por cada 100 hogares    object\n",
      "dtype: object\n",
      "\n",
      "df_02_Internet_Penetracion:\n",
      "Año                              int64\n",
      "Trimestre                        int64\n",
      "Accesos por cada 100 hogares    object\n",
      "Accesos por cada 100 hab        object\n",
      "Periodo                         object\n",
      "dtype: object\n",
      "\n",
      "df_03_Internet_BAF:\n",
      "Año                   int64\n",
      "Trimestre             int64\n",
      "Banda ancha fija     object\n",
      "Dial up             float64\n",
      "Total                object\n",
      "Periodo              object\n",
      "dtype: object\n",
      "\n",
      "df_04_Internet_BAF:\n",
      "Año                  int64\n",
      "Trimestre            int64\n",
      "Provincia           object\n",
      "Banda ancha fija    object\n",
      "Dial up             object\n",
      "Total               object\n",
      "dtype: object\n",
      "\n",
      "df_05_Internet_Accesos-por-tecnologia:\n",
      "Año               int64\n",
      "Trimestre         int64\n",
      "ADSL             object\n",
      "Cablemodem       object\n",
      "Fibra óptica     object\n",
      "Wireless        float64\n",
      "Otros           float64\n",
      "Total            object\n",
      "Periodo          object\n",
      "dtype: object\n",
      "\n",
      "df_06_internet_tecno_prov:\n",
      "Unnamed: 0        int64\n",
      "Año              object\n",
      "Trimestre        object\n",
      "Provincia        object\n",
      "ADSL             object\n",
      "Cablemodem       object\n",
      "Fibra óptica     object\n",
      "Wireless        float64\n",
      "Otros           float64\n",
      "Total            object\n",
      "dtype: object\n",
      "\n",
      "df_07_historico_velocidad_internet:\n",
      "Año                        int64\n",
      "Trimestre                  int64\n",
      "Mbps (Media de bajada)    object\n",
      "Trimestre.1               object\n",
      "dtype: object\n",
      "\n",
      "df_08_historico_velocidad_internet_provincia:\n",
      "Unnamed: 0                 int64\n",
      "Año                        int64\n",
      "Trimestre                  int64\n",
      "Provincia                 object\n",
      "Mbps (Media de bajada)     int64\n",
      "dtype: object\n",
      "\n",
      "df_09_Internet_Accesos-por-velocidad:\n",
      "Año;Trimestre;Provincia;HASTA 512 kbps;+ 512 Kbps - 1 Mbps;+ 1 Mbps - 6 Mbps;+ 6 Mbps - 10 Mbps;+ 10 Mbps - 20 Mbps;+ 20 Mbps - 30 Mbps;+ 30 Mbps;OTROS;Total;;;;;;;;;;;;    object\n",
      "dtype: object\n",
      "\n",
      "df_10_Internet_Accesos-por-velocidad:\n",
      "Año                      int64\n",
      "Trimestre                int64\n",
      "Provincia               object\n",
      "HASTA 512 kbps         float64\n",
      "+ 512 Kbps - 1 Mbps    float64\n",
      "+ 1 Mbps - 6 Mbps       object\n",
      "+ 6 Mbps - 10 Mbps     float64\n",
      "+ 10 Mbps - 20 Mbps    float64\n",
      "+ 20 Mbps - 30 Mbps    float64\n",
      "+ 30 Mbps               object\n",
      "OTROS                  float64\n",
      "Total                   object\n",
      "dtype: object\n",
      "\n",
      "df_12_Internet_Ingresos:\n",
      "Año                           int64\n",
      "Trimestre                     int64\n",
      "Ingresos (miles de pesos)    object\n",
      "Periodo                      object\n",
      "dtype: object\n",
      "\n",
      "df_13_AccesosaInternetfijoporvelocidaddebajadaylocalidad_2776171689452943315:\n",
      "Provincia      object\n",
      "Partido        object\n",
      "Localidad      object\n",
      "Link Indec     object\n",
      "Otros          object\n",
      "               ...   \n",
      "85 mbps       float64\n",
      "90 mbps       float64\n",
      "92 mbps       float64\n",
      "95 mbps       float64\n",
      "100 mbps       object\n",
      "Length: 83, dtype: object\n",
      "\n",
      "df_14_AccesosaInternetfijoportecnologiaylocalidad_2791751688513004191:\n",
      "Provincia         object\n",
      "Partido           object\n",
      "Localidad         object\n",
      "Link Indec        object\n",
      "ADSL              object\n",
      "CABLEMODEM        object\n",
      "DIAL UP           object\n",
      "FIBRA OPTICA      object\n",
      "OTROS             object\n",
      "SATELITAL         object\n",
      "WIMAX             object\n",
      "WIRELESS          object\n",
      "Total general     object\n",
      "Unnamed: 13      float64\n",
      "dtype: object\n",
      "\n",
      "df_15_Listadodelocalidadesconconectividadainternet_2750221689453131271:\n",
      "Provincia        object\n",
      "Partido          object\n",
      "Localidad        object\n",
      "ADSL             object\n",
      "CABLEMODEM       object\n",
      "DIALUP           object\n",
      "FIBRAOPTICA      object\n",
      "4G               object\n",
      "3G               object\n",
      "TELEFONIAFIJA    object\n",
      "WIRELESS         object\n",
      "SATELITAL        object\n",
      "dtype: object\n",
      "\n",
      "df_16_ConectividadalserviciodeInternet_2776151689453170851:\n",
      "Provincia         object\n",
      "Partido           object\n",
      "Localidad         object\n",
      "Poblacion          int64\n",
      "ADSL              object\n",
      "CABLEMODEM        object\n",
      "DIALUP            object\n",
      "FIBRAOPTICA       object\n",
      "SATELITAL         object\n",
      "WIRELESS          object\n",
      "TELEFONIAFIJA     object\n",
      "3G                object\n",
      "4G                object\n",
      "link             float64\n",
      "Latitud           object\n",
      "Longitud          object\n",
      "dtype: object\n",
      "\n"
     ]
    }
   ],
   "source": [
    "for name in dfs:\n",
    "    df = globals()[name]       \n",
    "    print(f'{name}:')\n",
    "    print(df.dtypes)\n",
    "    print('')"
   ]
  },
  {
   "cell_type": "code",
   "execution_count": 72,
   "metadata": {},
   "outputs": [
    {
     "name": "stdout",
     "output_type": "stream",
     "text": [
      "df_01_Internet_Penetracion:\n",
      "      Año  Trimestre         Provincia Accesos por cada 100 hogares\n",
      "473  2017          4          San Juan                         30,3\n",
      "414  2018          2        Corrientes                        33,81\n",
      "466  2017          4          La Pampa                        71,05\n",
      "426  2018          2          San Luis                        15,15\n",
      "118  2021          3  Tierra Del Fuego                        94,95\n",
      "\n",
      "df_02_Internet_Penetracion:\n",
      "     Año  Trimestre Accesos por cada 100 hogares Accesos por cada 100 hab  \\\n",
      "29  2015          2                        51,76                    15,82   \n",
      "14  2019          1                        62,48                    19,31   \n",
      "8   2020          3                        66,31                    20,59   \n",
      "9   2020          2                        64,21                    19,92   \n",
      "18  2018          1                        58,82                    18,12   \n",
      "\n",
      "          Periodo  \n",
      "29   Abr-Jun 2015  \n",
      "14   Ene-Mar 2019  \n",
      "8   Jul-Sept 2020  \n",
      "9    Abr-Jun 2020  \n",
      "18   Ene-Mar 2018  \n",
      "\n",
      "df_03_Internet_BAF:\n",
      "     Año  Trimestre Banda ancha fija  Dial up       Total        Periodo\n",
      "27  2015          4        6.952.289   32.542   6.984.831   Oct-Dic 2015\n",
      "24  2016          3        7.178.340   28.610   7.206.950  Jul-Sept 2016\n",
      "15  2018          4        8.451.841   21.814   8.473.655   Oct-Dic 2018\n",
      "3   2021          4       10.476.933   12.861  10.489.794   Oct-Dic 2021\n",
      "21  2017          2        7.401.134   28.530   7.429.664   Abr-Jun 2017\n",
      "\n",
      "df_04_Internet_BAF:\n",
      "      Año  Trimestre Provincia Banda ancha fija Dial up    Total\n",
      "221  2020          2   Córdoba          836.413      55  836.468\n",
      "376  2018          4     Salta          134.577       1  134.578\n",
      "299  2019          3  La Rioja           49.659      18   49.677\n",
      "370  2018          4  La Pampa           85.368     268   85.636\n",
      "723  2015          1     Chaco           81.329      31   81.360\n",
      "\n",
      "df_05_Internet_Accesos-por-tecnologia:\n",
      "     Año  Trimestre       ADSL Cablemodem Fibra óptica  Wireless    Otros  \\\n",
      "10  2020          1  2.299.457  4.903.674    1.047.817   352.333  209.145   \n",
      "14  2019          1  3.132.789  4.435.439      637.099   276.419  166.389   \n",
      "5   2021          2  2.018.587  5.641.731    1.472.246   476.968  253.552   \n",
      "34  2014          1  3.697.066  2.407.330      150.323    70.749   72.930   \n",
      "2   2022          1  1.533.240  6.073.426    2.219.533   545.814  251.996   \n",
      "\n",
      "         Total       Periodo  \n",
      "10   8.812.426  Ene-Mar 2020  \n",
      "14   8.648.135  Ene-Mar 2019  \n",
      "5    9.863.084  Abr-Jun 2021  \n",
      "34   6.398.398  Ene-Mar 2014  \n",
      "2   10.624.009  Ene-Mar 2022  \n",
      "\n",
      "df_06_internet_tecno_prov:\n",
      "     Unnamed: 0   Año Trimestre            Provincia       ADSL Cablemodem  \\\n",
      "518         518  2017         2              Neuquén     51.794     50.283   \n",
      "501         501  2017         3  Santiago Del Estero     27.733     54.096   \n",
      "206         206  2020         3              Neuquén     30.222     70.446   \n",
      "797         797  2014         2              Córdoba    337.825    234.729   \n",
      "768         768  2014         3         Buenos Aires  1.562.533  1.110.628   \n",
      "\n",
      "    Fibra óptica  Wireless    Otros      Total  \n",
      "518        1.133    11.545    2.678    117.433  \n",
      "501           19   911.000   35.000     82.794  \n",
      "206       11.043    16.787  737.000    129.235  \n",
      "797          351     3.673  374.000    576.952  \n",
      "768      124.474    20.049   31.881  2.849.565  \n",
      "\n",
      "df_07_historico_velocidad_internet:\n",
      "     Año  Trimestre Mbps (Media de bajada)    Trimestre.1\n",
      "34  2014          1                   3,62   Ene-Mar 2014\n",
      "14  2019          1                  17,38   Ene-Mar 2019\n",
      "22  2017          1                   6,62   Ene-Mar 2017\n",
      "32  2014          3                   3,87  Jul-Sept 2014\n",
      "26  2016          1                   5,08   Ene-Mar 2016\n",
      "\n",
      "df_08_historico_velocidad_internet_provincia:\n",
      "     Unnamed: 0   Año  Trimestre Provincia  Mbps (Media de bajada)\n",
      "269         269  2019          4   Córdoba                      26\n",
      "638         638  2016          1   Neuquén                       4\n",
      "738         738  2015          1  San Luis                       4\n",
      "425         425  2018          2  San Juan                       6\n",
      "710         710  2015          2   Neuquén                       4\n",
      "\n",
      "df_09_Internet_Accesos-por-velocidad:\n",
      "                                                                                                                                                                   Año;Trimestre;Provincia;HASTA 512 kbps;+ 512 Kbps - 1 Mbps;+ 1 Mbps - 6 Mbps;+ 6 Mbps - 10 Mbps;+ 10 Mbps - 20 Mbps;+ 20 Mbps - 30 Mbps;+ 30 Mbps;OTROS;Total;;;;;;;;;;;;\n",
      "2016;2;Tierra Del Fuego;16;286;38 773;0;0;0;0;0;39 075;;;;;;;;;;;; NaN    NaN             NaN              NaN             NaN             NaN             NaN NaN                                                NaN                                                                                                                       \n",
      "2020;4;San Juan;25;194;61         316;740;5        126;332;275;4   588;72 596;;;;;;;;;;;; NaN              NaN             NaN             NaN             NaN NaN                                                NaN                                                                                                                       \n",
      "2022;1;San Juan;26;2              269;32           356;11          914;25 144;2           088;11           916;2           465;88          178;;;;;;;;;;;; NaN NaN                                                NaN                                                                                                                       \n",
      "2017;4;Tucumán;105;8              164;78           750;45          241;24 318;1           303;4            367;0;162       248;;;;;;;;;;;; NaN             NaN NaN                                                NaN                                                                                                                       \n",
      "2017;3;Formosa;1                  063;3            716;13          752;5  187;6           056;899;459;0;31 132;;;;;;;;;;;; NaN             NaN             NaN NaN                                                NaN                                                                                                                       \n",
      "\n",
      "df_10_Internet_Accesos-por-velocidad:\n",
      "      Año  Trimestre         Provincia  HASTA 512 kbps  + 512 Kbps - 1 Mbps  \\\n",
      "710  2015          2           Neuquén           1.755                2.348   \n",
      "787  2014          3        Santa Cruz         195.000                1.624   \n",
      "461  2017          4           Córdoba         291.000               25.411   \n",
      "629  2016          1           Córdoba         148.000               59.484   \n",
      "622  2016          2  Tierra Del Fuego          16.000              286.000   \n",
      "\n",
      "    + 1 Mbps - 6 Mbps  + 6 Mbps - 10 Mbps  + 10 Mbps - 20 Mbps  \\\n",
      "710            82.727             214.000                5.168   \n",
      "787            24.248               1.000                1.000   \n",
      "461           280.837             102.892              217.602   \n",
      "629           414.452              65.763               66.455   \n",
      "622            38.773               0.000                0.000   \n",
      "\n",
      "     + 20 Mbps - 30 Mbps + 30 Mbps  OTROS    Total  \n",
      "710                2.000       110  0.000   92.324  \n",
      "787                0.000         0  0.000   26.069  \n",
      "461               40.898    24.251  8.429  700.611  \n",
      "629                4.143     1.039  0.000  611.484  \n",
      "622                0.000         0  0.000   39.075  \n",
      "\n",
      "df_12_Internet_Ingresos:\n",
      "     Año  Trimestre Ingresos (miles de pesos)        Periodo\n",
      "2   2022          1                55.589.997   Ene-Mar 2022\n",
      "14  2019          1                20.207.414   Ene-Mar 2019\n",
      "10  2020          1                29.946.216   Ene-Mar 2020\n",
      "33  2014          2                 3.270.816   Abr-Jun 2014\n",
      "20  2017          3                10.065.998  Jul-Sept 2017\n",
      "\n",
      "df_13_AccesosaInternetfijoporvelocidaddebajadaylocalidad_2776171689452943315:\n",
      "         Provincia                 Partido  \\\n",
      "22    BUENOS AIRES  Adolfo Gonzales Chaves   \n",
      "2743      SANTA FE                 Rosario   \n",
      "199   BUENOS AIRES                  Ezeiza   \n",
      "1544       FORMOSA                   OTROS   \n",
      "1282       CORDOBA                 Tulumba   \n",
      "\n",
      "                                  Localidad Link Indec Otros  0,256 mbps  \\\n",
      "22    Adolfo Gonzales Chaves  (Est. Chaves)    6014010   NaN         NaN   \n",
      "2743                                 Acebal   82084010     1         NaN   \n",
      "199         Aeropuerto Internacional Ezeiza    6270010     1         NaN   \n",
      "1544                                  Otros  Sin Datos    10         NaN   \n",
      "1282                        San Pedro Norte   14175100   NaN         NaN   \n",
      "\n",
      "      0,375 mbps 0,5 mbps  0,512 mbps  0,625 mbps 0,75 mbps 1 mbps  1,25 mbps  \\\n",
      "22           NaN      NaN         NaN         NaN         3    NaN        NaN   \n",
      "2743         NaN      NaN         NaN         NaN       NaN      8        NaN   \n",
      "199          NaN        2         1.0         NaN         8      3        NaN   \n",
      "1544         NaN      NaN         NaN         NaN       NaN    NaN        NaN   \n",
      "1282         NaN      NaN         NaN         NaN       NaN     30        NaN   \n",
      "\n",
      "     1,5 mbps 2 mbps  2,2 mbps  ...  61 mbps 62 mbps  64 mbps 65 mbps 66 mbps  \\\n",
      "22        NaN    NaN       NaN  ...      NaN     NaN      NaN     NaN     NaN   \n",
      "2743      NaN    NaN       NaN  ...      NaN     NaN      NaN     NaN     NaN   \n",
      "199       NaN    NaN       NaN  ...      NaN     NaN      NaN     NaN     NaN   \n",
      "1544      NaN    NaN       NaN  ...      NaN     NaN      NaN     NaN     NaN   \n",
      "1282      NaN     30       NaN  ...      NaN     NaN      NaN     NaN     NaN   \n",
      "\n",
      "      70 mbps 75 mbps 78 mbps  80 mbps 82 mbps  83 mbps 85 mbps 90 mbps  \\\n",
      "22        NaN     NaN     NaN      NaN     NaN      NaN     NaN     NaN   \n",
      "2743      NaN     NaN     NaN      NaN     NaN      NaN     NaN     NaN   \n",
      "199       NaN     NaN     NaN      NaN     NaN      NaN     NaN     NaN   \n",
      "1544      NaN     NaN     NaN      NaN     NaN      NaN     NaN     NaN   \n",
      "1282      NaN     NaN     NaN      NaN     NaN      NaN     NaN     NaN   \n",
      "\n",
      "     92 mbps  95 mbps 100 mbps  \n",
      "22       NaN      NaN      NaN  \n",
      "2743     NaN      NaN      NaN  \n",
      "199      NaN      NaN        1  \n",
      "1544     NaN      NaN      NaN  \n",
      "1282     NaN      NaN      NaN  \n",
      "\n",
      "[5 rows x 83 columns]\n",
      "\n",
      "df_14_AccesosaInternetfijoportecnologiaylocalidad_2791751688513004191:\n",
      "                Provincia          Partido        Localidad Link Indec   ADSL  \\\n",
      "3018  SANTIAGO DEL ESTERO           Moreno         Libertad   86119060    - 0   \n",
      "2000             MISIONES       25 de Mayo       Alba Posse   54119010    - 0   \n",
      "63           BUENOS AIRES         Balcarce      San Agustín    6063050    - 0   \n",
      "2019             MISIONES          Capital          Posadas   54028030  7.195   \n",
      "395          BUENOS AIRES  Leandro N. Alem  Leandro N. Alem    6462050    - 0   \n",
      "\n",
      "     CABLEMODEM DIAL UP FIBRA OPTICA OTROS SATELITAL WIMAX WIRELESS  \\\n",
      "3018        - 0     - 0          - 0   - 0         1   - 0      - 0   \n",
      "2000        - 0     - 0           40   - 0       - 0   - 0      - 0   \n",
      "63          - 0     - 0          - 0     3       - 0   - 0       72   \n",
      "2019     70.150     - 0        3.613    12         8   - 0      230   \n",
      "395         201     - 0          - 0   - 0       - 0   - 0       55   \n",
      "\n",
      "     Total general  Unnamed: 13  \n",
      "3018             1          NaN  \n",
      "2000            40          NaN  \n",
      "63              75          NaN  \n",
      "2019        81.208          NaN  \n",
      "395            256          NaN  \n",
      "\n",
      "df_15_Listadodelocalidadesconconectividadainternet_2750221689453131271:\n",
      "         Provincia          Partido                Localidad ADSL CABLEMODEM  \\\n",
      "21    BUENOS AIRES  General Lavalle                    Pavón   --         --   \n",
      "2843       CORDOBA            Unión               Monte Leña   --         --   \n",
      "686        TUCUMAN        Río Chico  Villa Clodomiro Hileret   --         --   \n",
      "4217  BUENOS AIRES       25 de Mayo   Norberto de la Riestra   --         SI   \n",
      "3491  BUENOS AIRES       Las Flores                    Pardo   --         --   \n",
      "\n",
      "     DIALUP FIBRAOPTICA  4G  3G TELEFONIAFIJA WIRELESS SATELITAL  \n",
      "21       --          SI  SI  SI            --       SI        --  \n",
      "2843     --          --  SI  SI            SI       --        --  \n",
      "686      --          --  --  --            --       --        --  \n",
      "4217     --          SI  SI  SI            SI       SI        --  \n",
      "3491     --          --  SI  SI            --       SI        --  \n",
      "\n",
      "df_16_ConectividadalserviciodeInternet_2776151689453170851:\n",
      "       Provincia              Partido                             Localidad  \\\n",
      "3898   CATAMARCA  Fray Mamerto Esquiú                              San José   \n",
      "2935     CORDOBA          San Alberto                       Villa Sarmiento   \n",
      "1278    SANTA FE        General López  Aarón Castellanos (Est. Castellanos)   \n",
      "3076        CABA            COMUNA 01                         PUERTO MADERO   \n",
      "3725  ENTRE RIOS            Concordia                           Calabacilla   \n",
      "\n",
      "      Poblacion ADSL CABLEMODEM DIALUP FIBRAOPTICA SATELITAL WIRELESS  \\\n",
      "3898      10242   --         --     --          --        --       --   \n",
      "2935       5207   SI         --     --          --        --       SI   \n",
      "1278        236   --         --     --          --        --       SI   \n",
      "3076       6726   SI         SI     SI          SI        SI       SI   \n",
      "3725        879   --         --     --          --        --       SI   \n",
      "\n",
      "     TELEFONIAFIJA  3G  4G        link            Latitud           Longitud  \n",
      "3898            --  SI  SI  10063040.0  -28,3887321458271  -65,7062701247999  \n",
      "2935            --  --  SI  14126210.0  -31,9366572471396   -65,191796702404  \n",
      "1278            SI  --  SI  82042010.0  -34,3345323396045  -62,3748007656351  \n",
      "3076            SI  SI  SI   2000010.0  -34,6092161933037  -58,3563809151849  \n",
      "3725            --  SI  SI  30015010.0   -31,507626297952  -58,1334346597166  \n",
      "\n"
     ]
    }
   ],
   "source": [
    "# Un vistazo rápido a datos random\n",
    "for name in dfs:\n",
    "       df = globals()[name]       \n",
    "       print(f'{name}:')\n",
    "       print(df.sample(5)) \n",
    "       print('')"
   ]
  },
  {
   "cell_type": "code",
   "execution_count": 73,
   "metadata": {},
   "outputs": [
    {
     "name": "stdout",
     "output_type": "stream",
     "text": [
      "df_01_Internet_Penetracion:\n",
      "Año                             0\n",
      "Trimestre                       0\n",
      "Provincia                       0\n",
      "Accesos por cada 100 hogares    0\n",
      "dtype: int64\n",
      "\n",
      "df_02_Internet_Penetracion:\n",
      "Año                             0\n",
      "Trimestre                       0\n",
      "Accesos por cada 100 hogares    0\n",
      "Accesos por cada 100 hab        0\n",
      "Periodo                         0\n",
      "dtype: int64\n",
      "\n",
      "df_03_Internet_BAF:\n",
      "Año                 0\n",
      "Trimestre           0\n",
      "Banda ancha fija    0\n",
      "Dial up             0\n",
      "Total               0\n",
      "Periodo             0\n",
      "dtype: int64\n",
      "\n",
      "df_04_Internet_BAF:\n",
      "Año                 0\n",
      "Trimestre           0\n",
      "Provincia           0\n",
      "Banda ancha fija    0\n",
      "Dial up             2\n",
      "Total               0\n",
      "dtype: int64\n",
      "\n",
      "df_05_Internet_Accesos-por-tecnologia:\n",
      "Año             0\n",
      "Trimestre       0\n",
      "ADSL            0\n",
      "Cablemodem      0\n",
      "Fibra óptica    0\n",
      "Wireless        0\n",
      "Otros           0\n",
      "Total           0\n",
      "Periodo         0\n",
      "dtype: int64\n",
      "\n",
      "df_06_internet_tecno_prov:\n",
      "Unnamed: 0      0\n",
      "Año             0\n",
      "Trimestre       0\n",
      "Provincia       1\n",
      "ADSL            1\n",
      "Cablemodem      1\n",
      "Fibra óptica    1\n",
      "Wireless        1\n",
      "Otros           1\n",
      "Total           1\n",
      "dtype: int64\n",
      "\n",
      "df_07_historico_velocidad_internet:\n",
      "Año                       0\n",
      "Trimestre                 0\n",
      "Mbps (Media de bajada)    0\n",
      "Trimestre.1               0\n",
      "dtype: int64\n",
      "\n",
      "df_08_historico_velocidad_internet_provincia:\n",
      "Unnamed: 0                0\n",
      "Año                       0\n",
      "Trimestre                 0\n",
      "Provincia                 0\n",
      "Mbps (Media de bajada)    0\n",
      "dtype: int64\n",
      "\n",
      "df_09_Internet_Accesos-por-velocidad:\n",
      "Año;Trimestre;Provincia;HASTA 512 kbps;+ 512 Kbps - 1 Mbps;+ 1 Mbps - 6 Mbps;+ 6 Mbps - 10 Mbps;+ 10 Mbps - 20 Mbps;+ 20 Mbps - 30 Mbps;+ 30 Mbps;OTROS;Total;;;;;;;;;;;;    821\n",
      "dtype: int64\n",
      "\n",
      "df_10_Internet_Accesos-por-velocidad:\n",
      "Año                    0\n",
      "Trimestre              0\n",
      "Provincia              0\n",
      "HASTA 512 kbps         0\n",
      "+ 512 Kbps - 1 Mbps    0\n",
      "+ 1 Mbps - 6 Mbps      0\n",
      "+ 6 Mbps - 10 Mbps     0\n",
      "+ 10 Mbps - 20 Mbps    0\n",
      "+ 20 Mbps - 30 Mbps    0\n",
      "+ 30 Mbps              0\n",
      "OTROS                  6\n",
      "Total                  0\n",
      "dtype: int64\n",
      "\n",
      "df_12_Internet_Ingresos:\n",
      "Año                          0\n",
      "Trimestre                    0\n",
      "Ingresos (miles de pesos)    0\n",
      "Periodo                      0\n",
      "dtype: int64\n",
      "\n",
      "df_13_AccesosaInternetfijoporvelocidaddebajadaylocalidad_2776171689452943315:\n",
      "Provincia        0\n",
      "Partido          0\n",
      "Localidad        0\n",
      "Link Indec       0\n",
      "Otros         2142\n",
      "              ... \n",
      "85 mbps       3097\n",
      "90 mbps       3096\n",
      "92 mbps       3096\n",
      "95 mbps       3097\n",
      "100 mbps      2545\n",
      "Length: 83, dtype: int64\n",
      "\n",
      "df_14_AccesosaInternetfijoportecnologiaylocalidad_2791751688513004191:\n",
      "Provincia           0\n",
      "Partido             0\n",
      "Localidad           0\n",
      "Link Indec          0\n",
      "ADSL                0\n",
      "CABLEMODEM          0\n",
      "DIAL UP             0\n",
      "FIBRA OPTICA        0\n",
      "OTROS               0\n",
      "SATELITAL           0\n",
      "WIMAX               0\n",
      "WIRELESS            0\n",
      "Total general       0\n",
      "Unnamed: 13      3142\n",
      "dtype: int64\n",
      "\n",
      "df_15_Listadodelocalidadesconconectividadainternet_2750221689453131271:\n",
      "Provincia        0\n",
      "Partido          0\n",
      "Localidad        0\n",
      "ADSL             0\n",
      "CABLEMODEM       0\n",
      "DIALUP           0\n",
      "FIBRAOPTICA      0\n",
      "4G               0\n",
      "3G               0\n",
      "TELEFONIAFIJA    0\n",
      "WIRELESS         0\n",
      "SATELITAL        0\n",
      "dtype: int64\n",
      "\n",
      "df_16_ConectividadalserviciodeInternet_2776151689453170851:\n",
      "Provincia         0\n",
      "Partido           0\n",
      "Localidad         0\n",
      "Poblacion         0\n",
      "ADSL              0\n",
      "CABLEMODEM        0\n",
      "DIALUP            0\n",
      "FIBRAOPTICA       0\n",
      "SATELITAL         0\n",
      "WIRELESS          0\n",
      "TELEFONIAFIJA     0\n",
      "3G                0\n",
      "4G                0\n",
      "link             12\n",
      "Latitud           0\n",
      "Longitud          0\n",
      "dtype: int64\n",
      "\n"
     ]
    }
   ],
   "source": [
    "# Comprobamos si hay muchos nulos\n",
    "for name in dfs:\n",
    "    df = globals()[name]\n",
    "    print(f'{name}:')\n",
    "    print(df.isna().sum())\n",
    "    print('')"
   ]
  },
  {
   "cell_type": "code",
   "execution_count": 74,
   "metadata": {},
   "outputs": [
    {
     "name": "stdout",
     "output_type": "stream",
     "text": [
      "df_01_Internet_Penetracion:\n",
      "0\n",
      "\n",
      "df_02_Internet_Penetracion:\n",
      "0\n",
      "\n",
      "df_03_Internet_BAF:\n",
      "0\n",
      "\n",
      "df_04_Internet_BAF:\n",
      "0\n",
      "\n",
      "df_05_Internet_Accesos-por-tecnologia:\n",
      "0\n",
      "\n",
      "df_06_internet_tecno_prov:\n",
      "0\n",
      "\n",
      "df_07_historico_velocidad_internet:\n",
      "0\n",
      "\n",
      "df_08_historico_velocidad_internet_provincia:\n",
      "0\n",
      "\n",
      "df_09_Internet_Accesos-por-velocidad:\n",
      "820\n",
      "\n",
      "df_10_Internet_Accesos-por-velocidad:\n",
      "0\n",
      "\n",
      "df_12_Internet_Ingresos:\n",
      "0\n",
      "\n",
      "df_13_AccesosaInternetfijoporvelocidaddebajadaylocalidad_2776171689452943315:\n",
      "0\n",
      "\n",
      "df_14_AccesosaInternetfijoportecnologiaylocalidad_2791751688513004191:\n",
      "0\n",
      "\n",
      "df_15_Listadodelocalidadesconconectividadainternet_2750221689453131271:\n",
      "2\n",
      "\n",
      "df_16_ConectividadalserviciodeInternet_2776151689453170851:\n",
      "0\n",
      "\n"
     ]
    }
   ],
   "source": [
    "# Echamos un vistazo a los duplicados\n",
    "for name in dfs:\n",
    "    df = globals()[name]\n",
    "    print(f'{name}:')\n",
    "    print(df.duplicated().sum())\n",
    "    print('')"
   ]
  },
  {
   "cell_type": "code",
   "execution_count": 76,
   "metadata": {},
   "outputs": [
    {
     "name": "stdout",
     "output_type": "stream",
     "text": [
      "['df_01_Internet_Penetracion', 'df_02_Internet_Penetracion', 'df_03_Internet_BAF', 'df_04_Internet_BAF', 'df_05_Internet_Accesos-por-tecnologia', 'df_06_internet_tecno_prov', 'df_07_historico_velocidad_internet', 'df_08_historico_velocidad_internet_provincia', 'df_09_Internet_Accesos-por-velocidad', 'df_10_Internet_Accesos-por-velocidad', 'df_12_Internet_Ingresos', 'df_13_AccesosaInternetfijoporvelocidaddebajadaylocalidad_2776171689452943315', 'df_14_AccesosaInternetfijoportecnologiaylocalidad_2791751688513004191', 'df_15_Listadodelocalidadesconconectividadainternet_2750221689453131271', 'df_16_ConectividadalserviciodeInternet_2776151689453170851']\n"
     ]
    }
   ],
   "source": [
    "print(dfs)"
   ]
  },
  {
   "cell_type": "code",
   "execution_count": 78,
   "metadata": {},
   "outputs": [
    {
     "name": "stdout",
     "output_type": "stream",
     "text": [
      "Index(['Año;Trimestre;Provincia;HASTA 512 kbps;+ 512 Kbps - 1 Mbps;+ 1 Mbps - 6 Mbps;+ 6 Mbps - 10 Mbps;+ 10 Mbps - 20 Mbps;+ 20 Mbps - 30 Mbps;+ 30 Mbps;OTROS;Total;;;;;;;;;;;;'], dtype='object')\n"
     ]
    }
   ],
   "source": [
    "df = globals()[\"df_09_Internet_Accesos-por-velocidad\"]\n",
    "print(df.columns)"
   ]
  },
  {
   "cell_type": "code",
   "execution_count": 83,
   "metadata": {},
   "outputs": [
    {
     "name": "stdout",
     "output_type": "stream",
     "text": [
      "                                                                                                                                                                                            Año;Trimestre;Provincia;HASTA 512 kbps;+ 512 Kbps - 1 Mbps;+ 1 Mbps - 6 Mbps;+ 6 Mbps - 10 Mbps;+ 10 Mbps - 20 Mbps;+ 20 Mbps - 30 Mbps;+ 30 Mbps;OTROS;Total;;;;;;;;;;;;\n",
      "2022;3;Catamarca;71;384;3         107;5            389;5            099;3             737;50           298;2            208;70          293;;;;;;;;;;;; NaN             NaN             NaN                                                NaN                                                                                                                       \n",
      "2022;3;Chaco;461;987;16           782;18           938;8            049;15            828;79           390;3            711;144         146;;;;;;;;;;;; NaN             NaN             NaN                                                NaN                                                                                                                       \n",
      "2022;3;Chubut;109;1               444;45           707;30           940;34            682;15           309;17           563;20          024;165         778;;;;;;;;;;;; NaN             NaN                                                NaN                                                                                                                       \n",
      "2022;3;Córdoba;99;11              312;153          324;111          615;70            989;27           112;650          344;13          873;1           038             668;;;;;;;;;;;; NaN                                                NaN                                                                                                                       \n",
      "2022;3;Corrientes;67;3            865;23           427;23           948;7             776;21           706;56           950;7           107;144         846;;;;;;;;;;;; NaN             NaN                                                NaN                                                                                                                       \n",
      "...                                                                                                                                                                                                                                        ...                                                                                                                       \n",
      "2014;1;Santa Cruz;161;1           625;24           972;1;1;0;0;0;26 760;;;;;;;;;;;;   NaN              NaN              NaN             NaN             NaN             NaN             NaN                                                NaN                                                                                                                       \n",
      "2014;1;Santa Fe;8                 456;124          468;345          225;20            328;6            845;23;668;0;506 013;;;;;;;;;;;; NaN             NaN             NaN             NaN                                                NaN                                                                                                                       \n",
      "2014;1;Santiago Del Estero;1      234;10           531;22           817;2             422;109;0;0;0;37 113;;;;;;;;;;;;  NaN             NaN             NaN             NaN             NaN                                                NaN                                                                                                                       \n",
      "2014;1;Tierra Del Fuego;12;607;30 902;6;0;0;0;0;31 527;;;;;;;;;;;;  NaN               NaN              NaN              NaN             NaN             NaN             NaN             NaN                                                NaN                                                                                                                       \n",
      "2014;1;Tucumán;6;34               672;83           210;11           779;362;3;0;0;130 032;;;;;;;;;;;;  NaN              NaN             NaN             NaN             NaN             NaN                                                NaN                                                                                                                       \n",
      "\n",
      "[820 rows x 1 columns]\n"
     ]
    }
   ],
   "source": [
    "# En el df_09_Internet_Accesos-por-velocidad hay muchos duplicados, vamos a ver de qué se trata\n",
    "duplicados_df_09 = df[df.duplicated()]\n",
    "print(duplicados_df_09)\n",
    "# los duplicados no son relevantes, ya que anteriormente hemos visto que este dataset hay que importar\n",
    "# con la opción sep=';'"
   ]
  },
  {
   "cell_type": "code",
   "execution_count": 86,
   "metadata": {},
   "outputs": [
    {
     "name": "stdout",
     "output_type": "stream",
     "text": [
      "Hay 2 filas duplicadas en df_15\n",
      "         Provincia    Partido     Localidad ADSL CABLEMODEM DIALUP  \\\n",
      "651        TUCUMAN  Cruz Alta      Lastenia   --         --     --   \n",
      "3366  BUENOS AIRES   La Plata  ruta del sol   SI         --     --   \n",
      "\n",
      "     FIBRAOPTICA  4G  3G TELEFONIAFIJA WIRELESS SATELITAL  \n",
      "651           --  SI  SI            --       --        --  \n",
      "3366          --  SI  SI            --       --        --  \n"
     ]
    }
   ],
   "source": [
    "# el otro dataset que presenta duplicados era df_15_Listadodelocalidadesconconectividadainternet_2750221689453131271\n",
    "# Vamos a verlos\n",
    "duplicados_df_15 = df_15_Listadodelocalidadesconconectividadainternet_2750221689453131271[df_15_Listadodelocalidadesconconectividadainternet_2750221689453131271.duplicated()]\n",
    "print(f\"Hay {duplicados_df_15.shape[0]} filas duplicadas en df_15\")\n",
    "print(duplicados_df_15)"
   ]
  },
  {
   "cell_type": "code",
   "execution_count": 90,
   "metadata": {},
   "outputs": [
    {
     "name": "stdout",
     "output_type": "stream",
     "text": [
      "         Provincia       Partido        Localidad ADSL CABLEMODEM DIALUP  \\\n",
      "243     ENTRE RIOS         Colón           Hocker   --         --     --   \n",
      "651        TUCUMAN     Cruz Alta         Lastenia   --         --     --   \n",
      "1633     RIO NEGRO  General Roca  Barrio La Costa   --         --     --   \n",
      "2386    ENTRE RIOS        Paraná       El Ramblón   --         --     --   \n",
      "3366  BUENOS AIRES      La Plata     ruta del sol   SI         --     --   \n",
      "4122      LA RIOJA     Sanagasta  Villa Sanagasta   --         SI     --   \n",
      "\n",
      "     FIBRAOPTICA  4G  3G TELEFONIAFIJA WIRELESS SATELITAL  \n",
      "243           --  SI  --            --       --        --  \n",
      "651           --  SI  SI            --       --        --  \n",
      "1633          --  --  --            --       SI        --  \n",
      "2386          --  SI  --            --       SI        --  \n",
      "3366          --  SI  SI            --       --        --  \n",
      "4122          SI  SI  SI            SI       SI        SI  \n"
     ]
    }
   ],
   "source": [
    "duplicates = df_15_Listadodelocalidadesconconectividadainternet_2750221689453131271.duplicated(subset=['Provincia', 'Partido', 'Localidad'])\n",
    "print(df_15_Listadodelocalidadesconconectividadainternet_2750221689453131271[duplicates])\n",
    "\n",
    "         Provincia       Partido        Localidad ADSL CABLEMODEM DIALUP  FIBRAOPTICA  4G  3G TELEFONIAFIJA WIRELESS SATELITAL\n",
    "243     ENTRE RIOS         Colón           Hocker   --         --     --           --  SI  --            --       --        --\n",
    "651        TUCUMAN     Cruz Alta         Lastenia   --         --     --           --  SI  SI            --       --        --\n",
    "1633     RIO NEGRO  General Roca  Barrio La Costa   --         --     --           --  --  --            --       SI        --\n",
    "2386    ENTRE RIOS        Paraná       El Ramblón   --         --     --           --  SI  --            --       SI        --\n",
    "3366  BUENOS AIRES      La Plata     ruta del sol   SI         --     --           --  SI  SI            --       --        --\n",
    "4122      LA RIOJA     Sanagasta  Villa Sanagasta   --         SI     --           SI  SI  SI            SI       SI        SI"
   ]
  },
  {
   "cell_type": "code",
   "execution_count": 91,
   "metadata": {},
   "outputs": [
    {
     "name": "stdout",
     "output_type": "stream",
     "text": [
      "         Provincia       Partido        Localidad ADSL CABLEMODEM DIALUP  \\\n",
      "200     ENTRE RIOS         Colón           Hocker   --         --     --   \n",
      "243     ENTRE RIOS         Colón           Hocker   --         --     --   \n",
      "650        TUCUMAN     Cruz Alta         Lastenia   --         --     --   \n",
      "651        TUCUMAN     Cruz Alta         Lastenia   --         --     --   \n",
      "1632     RIO NEGRO  General Roca  Barrio La Costa   --         --     --   \n",
      "1633     RIO NEGRO  General Roca  Barrio La Costa   --         --     --   \n",
      "2385    ENTRE RIOS        Paraná       El Ramblón   --         --     --   \n",
      "2386    ENTRE RIOS        Paraná       El Ramblón   --         --     --   \n",
      "3365  BUENOS AIRES      La Plata     ruta del sol   SI         --     --   \n",
      "3366  BUENOS AIRES      La Plata     ruta del sol   SI         --     --   \n",
      "4121      LA RIOJA     Sanagasta  Villa Sanagasta   --         --     --   \n",
      "4122      LA RIOJA     Sanagasta  Villa Sanagasta   --         SI     --   \n",
      "\n",
      "     FIBRAOPTICA  4G  3G TELEFONIAFIJA WIRELESS SATELITAL  \n",
      "200           --  SI  --            --       SI        --  \n",
      "243           --  SI  --            --       --        --  \n",
      "650           --  SI  SI            --       --        --  \n",
      "651           --  SI  SI            --       --        --  \n",
      "1632          --  --  --            --       --        --  \n",
      "1633          --  --  --            --       SI        --  \n",
      "2385          --  SI  --            --       --        --  \n",
      "2386          --  SI  --            --       SI        --  \n",
      "3365          --  SI  SI            --       --        --  \n",
      "3366          --  SI  SI            --       --        --  \n",
      "4121          --  SI  SI            --       --        --  \n",
      "4122          SI  SI  SI            SI       SI        SI  \n"
     ]
    }
   ],
   "source": [
    "duplicates = df_15_Listadodelocalidadesconconectividadainternet_2750221689453131271.duplicated(subset=['Provincia', 'Partido', 'Localidad'], keep=False)\n",
    "print(df_15_Listadodelocalidadesconconectividadainternet_2750221689453131271[duplicates])"
   ]
  },
  {
   "cell_type": "markdown",
   "metadata": {},
   "source": [
    "Let's calculate the total number of each type of internet connection and see which one is the most common.  \n",
    "\n",
    "(Answer): The most common type of internet connection is 4G."
   ]
  },
  {
   "cell_type": "code",
   "execution_count": 92,
   "metadata": {},
   "outputs": [],
   "source": [
    "df = pd.DataFrame(df_15_Listadodelocalidadesconconectividadainternet_2750221689453131271)"
   ]
  },
  {
   "cell_type": "code",
   "execution_count": 93,
   "metadata": {},
   "outputs": [
    {
     "data": {
      "text/plain": [
       "Index(['Provincia', 'Partido', 'Localidad', 'ADSL', 'CABLEMODEM', 'DIALUP',\n",
       "       'FIBRAOPTICA', '4G', '3G', 'TELEFONIAFIJA', 'WIRELESS', 'SATELITAL'],\n",
       "      dtype='object')"
      ]
     },
     "execution_count": 93,
     "metadata": {},
     "output_type": "execute_result"
    }
   ],
   "source": [
    "df.columns"
   ]
  },
  {
   "cell_type": "code",
   "execution_count": 94,
   "metadata": {},
   "outputs": [
    {
     "name": "stdout",
     "output_type": "stream",
     "text": [
      "    ADSL  CABLEMODEM  DIALUP  FIBRAOPTICA    4G    3G  TELEFONIAFIJA  \\\n",
      "--  3179        3436    3909         2866  1738  2432           2150   \n",
      "SI  1133         876     403         1446  2574  1880           2162   \n",
      "\n",
      "    WIRELESS  SATELITAL  \n",
      "--      2070       3233  \n",
      "SI      2242       1079  \n",
      "Most common internet connection:  --    DIALUP\n",
      "SI        4G\n",
      "dtype: object\n"
     ]
    }
   ],
   "source": [
    "# Vamos a calcular el tipo de conexión más común.\n",
    "internet_connections = df[['ADSL', 'CABLEMODEM', 'DIALUP', 'FIBRAOPTICA', '4G', '3G', 'TELEFONIAFIJA', 'WIRELESS', 'SATELITAL']].apply(pd.Series.value_counts)\n",
    "most_common = internet_connections.idxmax(axis=1)\n",
    "print(internet_connections)\n",
    "print(\"Most common internet connection: \", most_common)"
   ]
  },
  {
   "cell_type": "code",
   "execution_count": 96,
   "metadata": {},
   "outputs": [
    {
     "name": "stdout",
     "output_type": "stream",
     "text": [
      "Provincia\n",
      "BUENOS AIRES           901\n",
      "CORDOBA                556\n",
      "SANTA FE               388\n",
      "SAN LUIS               229\n",
      "MENDOZA                210\n",
      "ENTRE RIOS             194\n",
      "CATAMARCA              182\n",
      "SANTIAGO DEL ESTERO    165\n",
      "RIO NEGRO              163\n",
      "JUJUY                  160\n",
      "MISIONES               143\n",
      "SALTA                  139\n",
      "TUCUMAN                117\n",
      "SAN JUAN               108\n",
      "LA RIOJA                93\n",
      "CHACO                   92\n",
      "CHUBUT                  90\n",
      "LA PAMPA                89\n",
      "CORRIENTES              78\n",
      "FORMOSA                 63\n",
      "NEUQUEN                 61\n",
      "CABA                    48\n",
      "SANTA CRUZ              27\n",
      "TIERRA DEL FUEGO        16\n",
      "Name: count, dtype: int64\n",
      "\n",
      "BUENOS AIRES\n"
     ]
    }
   ],
   "source": [
    "# Calculemos el número de localidades en cada provincia \n",
    "localities_per_province = df['Provincia'].value_counts()\n",
    "print(localities_per_province)\n",
    "# y veamos cuál es la que más tiene, jeje, aunque ya lo sabemos con el primer cálculo\n",
    "most_localities = localities_per_province.idxmax()\n",
    "print('')\n",
    "print(most_localities)"
   ]
  },
  {
   "cell_type": "code",
   "execution_count": 97,
   "metadata": {},
   "outputs": [
    {
     "data": {
      "image/png": "[encoded data removed]",
      "text/plain": [
       "<Figure size 1000x600 with 1 Axes>"
      ]
     },
     "metadata": {},
     "output_type": "display_data"
    }
   ],
   "source": [
    "# Dibujemos un diagrama de barras que muestre el número de localidades en cada provincia.\n",
    "import matplotlib.pyplot as plt\n",
    "localities_per_province = df['Provincia'].value_counts()\n",
    "plt.figure(figsize=(10, 6))\n",
    "localities_per_province.plot(kind='bar')\n",
    "plt.title('Number of Localities per Province')\n",
    "plt.xlabel('Province')\n",
    "plt.ylabel('Number of Localities')\n",
    "plt.xticks(rotation=45)\n",
    "plt.show()"
   ]
  },
  {
   "cell_type": "code",
   "execution_count": 116,
   "metadata": {},
   "outputs": [
    {
     "data": {
      "image/png": "[encoded data removed]",
      "text/plain": [
       "<Figure size 1200x1000 with 1 Axes>"
      ]
     },
     "metadata": {},
     "output_type": "display_data"
    }
   ],
   "source": [
    "# Mejoremos el gráfico anterior poniendo las barras horizontales y con etiquetas\n",
    "localities_per_province = df['Provincia'].value_counts()\n",
    "plt.figure(figsize=(12, 10), facecolor='#4062DE')\n",
    "ax = localities_per_province.plot(kind='barh', width=0.9, color='#495881')\n",
    "ax.set_facecolor('#F0D705')\n",
    "for i, v in enumerate(localities_per_province):\n",
    "    ax.text(v + 3, i, str(v), color='black', fontweight='bold')\n",
    "\n",
    "plt.title('Localidades por Provincia')\n",
    "plt.xlabel('Cantidad de Localidades')\n",
    "plt.ylabel('Provincia')\n",
    "\n",
    "# Aquí probamos la escala logarítmica para que haya tanta diferencia entre 'Tierra del Fuego' y 'Buenos Aires'\n",
    "plt.gca().set_xscale(\"log\")\n",
    "plt.xticks([]) #Eliminamos las etiquetas del eje x que no nos interesan, ya tenemos las cantidades al lado de cada barra\n",
    "\n",
    "plt.show()\n"
   ]
  },
  {
   "cell_type": "code",
   "execution_count": null,
   "metadata": {},
   "outputs": [],
   "source": [
    "Jurisdicción\n",
    "Total de\n",
    "viviendas\n",
    "particulares\n",
    "Total de\n",
    "viviendas\n",
    "colectivas\n",
    "Total de\n",
    "población\n",
    "Población en\n",
    "viviendas\n",
    "particulares\n",
    "Población en\n",
    "viviendas\n",
    "colectivas (1)\n",
    "Población en\n",
    "situación de\n",
    "calle (vía\n",
    "pública)\n",
    "Total 17.780.210 25.501 46.044.703 45.767.858 273.883 2.962\n",
    "Ciudad Autónoma de Buenos Aires 1.638.764 1.946 3.120.612 3.092.942 26.767 903\n",
    "Buenos Aires 6.695.273 6.535 17.569.053 17.450.899 117.193 961\n",
    "24 Partidos del Gran Buenos Aires 3.714.607 1.383 10.865.182 10.817.508 46.877 797\n",
    "Resto de partidos de la Provincia\n",
    "de Buenos Aires 2.980.666 5.152 6.703.871 6.633.391 70.316 164\n",
    "Catamarca 158.989 449 429.556 427.415 2.139 2\n",
    "Chaco 401.658 443 1.142.963 1.137.027 5.877 59\n",
    "Chubut 236.010 1.123 603.120 599.568 3.508 44\n",
    "Córdoba 1.630.356 3.548 3.978.984 3.946.235 32.658 91\n",
    "Corrientes 406.480 555 1.197.553 1.195.538 1.977 38\n",
    "Entre Ríos 559.398 1.159 1.426.426 1.416.324 9.963 139\n",
    "Formosa 212.941 232 606.041 604.278 1.763 ///\n",
    "Jujuy 276.222 326 797.955 797.009 864 82\n",
    "La Pampa 163.805 437 366.022 364.556 1.462 4\n",
    "La Rioja 149.910 272 384.607 383.128 1.479 ///\n",
    "Mendoza 708.354 1.744 2.014.533 2.001.281 13.231 21\n",
    "Misiones 466.850 652 1.280.960 1.275.142 5.792 26\n",
    "Neuquén 273.685 392 726.590 723.663 2.920 7\n",
    "Río Negro 295.502 910 762.067 758.001 4.066 ///\n",
    "Salta 478.433 766 1.440.672 1.431.838 8.590 244\n",
    "San Juan 265.047 387 818.234 814.856 3.357 21\n",
    "San Luis 201.271 339 540.905 539.868 1.033 4\n",
    "Santa Cruz 131.395 486 333.473 331.707 1.766 ///\n",
    "Santa Fe 1.458.652 1.928 3.556.522 3.535.792 20.521 209\n",
    "Santiago del Estero 348.705 353 1.054.028 1.050.218 3.760 50\n",
    "Tierra del Fuego, Antártida e Islas\n",
    "del Atlántico Sur (2) 67.091 137 190.641 189.785 856 ///\n",
    "Tucumán 555.419 382 1.703.186 1.700.788 2.341 57"
   ]
  },
  {
   "cell_type": "code",
   "execution_count": 117,
   "metadata": {},
   "outputs": [
    {
     "data": {
      "image/png": "[encoded data removed]",
      "text/plain": [
       "<Figure size 640x480 with 1 Axes>"
      ]
     },
     "metadata": {},
     "output_type": "display_data"
    }
   ],
   "source": [
    "# Probemos ahora un gráfico de barras apiladas de la distribución de los diferentes tipos de conexión.\n",
    "\n",
    "# Agrupamos los datos por provincia y contar la cantidad de conexiones en cada tipo\n",
    "grouped_data = df.groupby('Provincia')[['ADSL', 'CABLEMODEM', 'DIALUP', 'FIBRAOPTICA', '4G', '3G', 'TELEFONIAFIJA', 'WIRELESS', 'SATELITAL']].count()\n",
    "\n",
    "# Creamos el gráfico de barras apiladas\n",
    "grouped_data.plot(kind='bar', stacked=True)\n",
    "\n",
    "# Personalizamos el gráfico\n",
    "plt.title('Distribución de tipos de conexión a internet por provincia')\n",
    "plt.xlabel('Provincia')\n",
    "plt.ylabel('Cantidad de conexiones')\n",
    "plt.legend(loc='upper right')\n",
    "\n",
    "# Y lo mostramos\n",
    "plt.show()"
   ]
  },
  {
   "cell_type": "code",
   "execution_count": 119,
   "metadata": {},
   "outputs": [
    {
     "data": {
      "image/png": "[encoded data removed]",
      "text/plain": [
       "<Figure size 640x480 with 1 Axes>"
      ]
     },
     "metadata": {},
     "output_type": "display_data"
    }
   ],
   "source": [
    "# Otra propuesta del gráfico anterior\n",
    "# Antes de proceder reemplazaremos los valores string por numéricos\n",
    "df.replace('--', 0, inplace=True)\n",
    "df.replace('SI', 1, inplace=True)\n",
    "df[['ADSL', 'CABLEMODEM', 'DIALUP', 'FIBRAOPTICA', '4G', '3G', 'TELEFONIAFIJA', 'WIRELESS', 'SATELITAL']] = df[['ADSL', 'CABLEMODEM', 'DIALUP', 'FIBRAOPTICA', '4G', '3G', 'TELEFONIAFIJA', 'WIRELESS', 'SATELITAL']].apply(pd.to_numeric)\n",
    "\n",
    "# Agrupamos los datos por provincia y calcular el porcentaje de cada tipo de conexión\n",
    "grouped_data = df.groupby('Provincia')[['ADSL', 'CABLEMODEM', 'DIALUP', 'FIBRAOPTICA', '4G', '3G', 'TELEFONIAFIJA', 'WIRELESS', 'SATELITAL']].apply(lambda x: x / x.sum()).reset_index()\n",
    "\n",
    "# Crear el gráfico de barras apiladas\n",
    "grouped_data.plot(kind='bar', stacked=True)\n",
    "\n",
    "\n",
    "# Personalizamos el gráfico\n",
    "plt.title('Distribución de tipos de conexión a internet por provincia')\n",
    "plt.xlabel('Provincia')\n",
    "plt.ylabel('Porcentaje de conexiones')\n",
    "plt.legend(loc='upper right')\n",
    "\n",
    "# Y lo mostramos\n",
    "plt.show()\n"
   ]
  },
  {
   "cell_type": "markdown",
   "metadata": {},
   "source": [
    "___\n",
    "Ahora el df_16_Conect....\n",
    "___"
   ]
  },
  {
   "cell_type": "markdown",
   "metadata": {},
   "source": [
    "Aquí creo una copia del dataset obviando algunas columnas"
   ]
  },
  {
   "cell_type": "code",
   "execution_count": null,
   "metadata": {},
   "outputs": [],
   "source": [
    "df16 = df_16_ConectividadalserviciodeInternet_2776151689453170851[['Provincia',\n",
    "        # 'Partido', 'Localidad', 'Poblacion', \n",
    "        'ADSL', 'CABLEMODEM', 'DIALUP', 'FIBRAOPTICA', \n",
    "        'SATELITAL', 'WIRELESS', 'TELEFONIAFIJA', '3G', '4G', \n",
    "        # 'link', \n",
    "        'Latitud', 'Longitud']].copy()"
   ]
  },
  {
   "cell_type": "code",
   "execution_count": null,
   "metadata": {},
   "outputs": [],
   "source": [
    "df16.shape"
   ]
  },
  {
   "cell_type": "code",
   "execution_count": null,
   "metadata": {},
   "outputs": [],
   "source": [
    "print(df16['Latitud'].dtype)\n",
    "print(df16['Longitud'].dtype)\n",
    "# Las columnas 'Latitud' y 'Longitud' no están en formato numérico"
   ]
  },
  {
   "cell_type": "code",
   "execution_count": null,
   "metadata": {},
   "outputs": [],
   "source": [
    "df16.info()"
   ]
  },
  {
   "cell_type": "markdown",
   "metadata": {},
   "source": [
    "___\n",
    "Backup\n",
    "___"
   ]
  },
  {
   "cell_type": "code",
   "execution_count": null,
   "metadata": {},
   "outputs": [],
   "source": [
    "df16.to_pickle('backup_df16.pickle')"
   ]
  },
  {
   "cell_type": "markdown",
   "metadata": {},
   "source": [
    "Una vez hecha copia de seguridad, podemos ir convirtiendo los valores a float"
   ]
  },
  {
   "cell_type": "code",
   "execution_count": null,
   "metadata": {},
   "outputs": [],
   "source": [
    "df16['Latitud'] = df16['Latitud'].str.replace(',', '.')\n",
    "df16['Longitud'] = df16['Longitud'].str.replace(',', '.')\n",
    "\n"
   ]
  },
  {
   "cell_type": "code",
   "execution_count": null,
   "metadata": {},
   "outputs": [],
   "source": [
    "df16['Latitud'] = pd.to_numeric(df16['Latitud'], errors='coerce')\n",
    "df16['Longitud'] = pd.to_numeric(df16['Longitud'], errors='coerce')"
   ]
  },
  {
   "cell_type": "code",
   "execution_count": null,
   "metadata": {},
   "outputs": [],
   "source": [
    "print(df16['Latitud'].dtype)\n",
    "print(df16['Longitud'].dtype)\n",
    "# Las columnas 'Latitud' y 'Longitud' ahora ya sí son 'float64'"
   ]
  },
  {
   "cell_type": "code",
   "execution_count": null,
   "metadata": {},
   "outputs": [],
   "source": [
    "df16.sample(8)\n",
    "\n",
    "-24.966090\t-65.489590\n",
    "-60.737817\t-44.737660\n",
    "-28.533448\t-65.682128"
   ]
  },
  {
   "cell_type": "code",
   "execution_count": null,
   "metadata": {},
   "outputs": [],
   "source": [
    "# Comprobamos si hay valores nulos\n",
    "missing_values = df16[['Latitud', 'Longitud']].isnull().sum()\n",
    "print(missing_values)"
   ]
  },
  {
   "cell_type": "code",
   "execution_count": null,
   "metadata": {},
   "outputs": [],
   "source": [
    "df16 = pd.read_pickle('backup_df16.pickle')"
   ]
  },
  {
   "cell_type": "code",
   "execution_count": null,
   "metadata": {},
   "outputs": [],
   "source": [
    "# Eliminaremos filas que contengan valores faltantes o nulos en las columnas 'Latitud' y 'Longitud'\n",
    "df16 = df16.dropna(subset=['Latitud', 'Longitud'])"
   ]
  },
  {
   "cell_type": "code",
   "execution_count": null,
   "metadata": {},
   "outputs": [],
   "source": [
    "missing_values = df16[['Latitud', 'Longitud']].isnull().sum()\n",
    "print(missing_values)"
   ]
  },
  {
   "cell_type": "code",
   "execution_count": null,
   "metadata": {},
   "outputs": [],
   "source": [
    "df16.head()"
   ]
  },
  {
   "cell_type": "code",
   "execution_count": null,
   "metadata": {},
   "outputs": [],
   "source": [
    "# pip install folium\n",
    "import folium"
   ]
  },
  {
   "cell_type": "code",
   "execution_count": null,
   "metadata": {},
   "outputs": [],
   "source": [
    "map_arg = folium.Map(location=[-38, -64], \n",
    "                     zoom_start=4) # Ubicación y zoom de Argentina"
   ]
  },
  {
   "cell_type": "code",
   "execution_count": null,
   "metadata": {},
   "outputs": [],
   "source": [
    "for row in df16.itertuples():\n",
    "    folium.Marker(\n",
    "       location=[row.Latitud, row.Longitud],\n",
    "       icon=folium.Icon(color='blue') # Opcional, para poner un icono\n",
    "    ).add_to(map_arg)"
   ]
  },
  {
   "cell_type": "code",
   "execution_count": null,
   "metadata": {},
   "outputs": [],
   "source": [
    "map_arg.save('map.html')"
   ]
  },
  {
   "cell_type": "code",
   "execution_count": null,
   "metadata": {},
   "outputs": [],
   "source": [
    "from IPython.display import display\n",
    "display(map_arg)"
   ]
  },
  {
   "cell_type": "code",
   "execution_count": null,
   "metadata": {},
   "outputs": [],
   "source": [
    "df16.columns"
   ]
  },
  {
   "cell_type": "code",
   "execution_count": null,
   "metadata": {},
   "outputs": [],
   "source": [
    "# El anterior mapa era para comprobar el funcionamiento de folium\n",
    "# Ahora vamos a explorar el df16 filtrando\n",
    "filtered_df = df16[df16['WIRELESS'] == 'SI']\n",
    "map_arg = folium.Map(location=[-38, -64], zoom_start=4)\n",
    "for row in filtered_df.itertuples():\n",
    "    folium.Marker(\n",
    "        location=[row.Latitud, row.Longitud],\n",
    "        icon=folium.Icon(color='blue')\n",
    "    ).add_to(map_arg)\n",
    "map_arg.save('mapWireless.html')\n",
    "display(map_arg)"
   ]
  },
  {
   "cell_type": "code",
   "execution_count": null,
   "metadata": {},
   "outputs": [],
   "source": [
    "# Exportamos df16 a CSV para su uso en PowerBI\n",
    "df16.to_csv('./datos_tratados/df16.csv', index=False)"
   ]
  },
  {
   "cell_type": "code",
   "execution_count": null,
   "metadata": {},
   "outputs": [],
   "source": [
    "df16.isna().sum()"
   ]
  },
  {
   "cell_type": "markdown",
   "metadata": {},
   "source": [
    "___\n",
    "Las pruebas con el dataset 16 no nos parecen del todo satisfactorias, las referencias geográficas realmente no son necesarias para hacer mapas en PowerBI.  \n",
    "Vamos pues con el dataset 15 que es similar. Esta vez conservando los nombres de las localidades."
   ]
  },
  {
   "cell_type": "code",
   "execution_count": null,
   "metadata": {},
   "outputs": [],
   "source": [
    "df_15_Listadodelocalidadesconconectividadainternet_2750221689453131271.sample(8)"
   ]
  },
  {
   "cell_type": "code",
   "execution_count": null,
   "metadata": {},
   "outputs": [],
   "source": [
    "# Vamos a grabar el dataset en el disco para usarlo después en PowerBI.\n",
    "# Vamos a probar el formato .parquet\n",
    "df_15_Listadodelocalidadesconconectividadainternet_2750221689453131271.to_parquet('./datos_tratados/df15.parquet')"
   ]
  },
  {
   "cell_type": "code",
   "execution_count": null,
   "metadata": {},
   "outputs": [],
   "source": [
    "df15 = df_15_Listadodelocalidadesconconectividadainternet_2750221689453131271.copy()"
   ]
  },
  {
   "cell_type": "code",
   "execution_count": null,
   "metadata": {},
   "outputs": [],
   "source": [
    "df15.info()"
   ]
  },
  {
   "cell_type": "code",
   "execution_count": null,
   "metadata": {},
   "outputs": [],
   "source": [
    "# Localidades sin ningún tipo de conectividad a Internet\n",
    "filtered_data = df15.iloc[:, 3:12].apply(lambda x: x != 'SI').all(axis=1)\n",
    "localidades = df15.loc[filtered_data, 'Localidad']"
   ]
  },
  {
   "cell_type": "code",
   "execution_count": null,
   "metadata": {},
   "outputs": [],
   "source": [
    "localidades.count()\n",
    "# Hay 776 localidades en Argentina sin ningún tipo de tecnología"
   ]
  },
  {
   "cell_type": "code",
   "execution_count": null,
   "metadata": {},
   "outputs": [],
   "source": [
    "# Agrupar las localidades por provincia y contar el número de localidades en cada provincia\n",
    "count_localidades_por_provincia = df15.loc[filtered_data, 'Localidad'].groupby(df15.loc[filtered_data, 'Provincia']).count()\n",
    " # Mostrar el recuento de localidades por provincia\n",
    "print(count_localidades_por_provincia)"
   ]
  },
  {
   "cell_type": "code",
   "execution_count": null,
   "metadata": {},
   "outputs": [],
   "source": [
    "# Group the data by province and technology, and count the number of localities\n",
    "count_localities_by_province_technology = df.groupby(['Provincia', 'ADSL', 'CABLEMODEM', 'DIALUP', 'FIBRAOPTICA', '4G', '3G', 'TELEFONIAFIJA', 'WIRELESS', 'SATELITAL']).size().reset_index(name='Count')\n",
    " # Print the result\n",
    "print(count_localities_by_province_technology)"
   ]
  },
  {
   "cell_type": "code",
   "execution_count": null,
   "metadata": {},
   "outputs": [],
   "source": [
    "# Group the data by province and sum the counts for each technology\n",
    "count_localities_by_province = count_localities_by_province_technology.groupby('Provincia').sum().reset_index()\n",
    " # Print the simplified result\n",
    "print(count_localities_by_province)"
   ]
  },
  {
   "cell_type": "markdown",
   "metadata": {},
   "source": [
    "___\n",
    "BACKUP\n",
    "___"
   ]
  },
  {
   "cell_type": "code",
   "execution_count": null,
   "metadata": {},
   "outputs": [],
   "source": [
    "df15.to_parquet('./backup_df15.parquet')"
   ]
  },
  {
   "cell_type": "code",
   "execution_count": null,
   "metadata": {},
   "outputs": [],
   "source": [
    "# Reemplazar los valores '--' por 0 y los 'SI' por 1\n",
    "df15.replace('--', 0, inplace=True)\n",
    "df15.replace('SI', 1, inplace=True)\n",
    "\n"
   ]
  },
  {
   "cell_type": "code",
   "execution_count": null,
   "metadata": {},
   "outputs": [],
   "source": [
    "df15.to_parquet('./datos_tratados/df15_digital.parquet')\n",
    "# guardamos el archivo convertido en .parquet para pruebas en Power BI\n",
    "# a la hora de \"conectar\" un archivo .parquet en PowerBI nos pide una URL\n",
    "# en local simplemente indicamos la ruta de la siguiente manera:\n",
    "# file:///D:/HENRY2023/M7(PI)/DTS-12/PI_DA_RAFTXO/datos_tratados/df15_digital.parquet\n"
   ]
  },
  {
   "cell_type": "code",
   "execution_count": null,
   "metadata": {},
   "outputs": [],
   "source": [
    " # Convertir las columnas de tecnología a tipo numérico\n",
    "cols_tecnologia = ['ADSL', 'CABLEMODEM', 'DIALUP', 'FIBRAOPTICA', '4G', '3G', 'TELEFONIAFIJA', 'WIRELESS', 'SATELITAL']\n",
    "df15[cols_tecnologia] = df15[cols_tecnologia].apply(pd.to_numeric)\n"
   ]
  },
  {
   "cell_type": "markdown",
   "metadata": {},
   "source": [
    "___\n",
    "AccesoTotalYP = \n",
    "CALCULATE([AccesoTotal], DateADD(Calendario[Date],-1,YEAR))"
   ]
  },
  {
   "cell_type": "code",
   "execution_count": null,
   "metadata": {},
   "outputs": [],
   "source": [
    "pd.set_option('display.max_columns',33)"
   ]
  },
  {
   "cell_type": "code",
   "execution_count": null,
   "metadata": {},
   "outputs": [],
   "source": [
    "# Agrupar los datos por provincia y sumar los valores 'SI' para cada tecnología\n",
    "count_si_by_province_technology = df15.groupby('Provincia')[cols_tecnologia].sum().reset_index()"
   ]
  },
  {
   "cell_type": "code",
   "execution_count": null,
   "metadata": {},
   "outputs": [],
   "source": [
    "# Mostrar el resultado\n",
    "print(count_si_by_province_technology)"
   ]
  },
  {
   "cell_type": "code",
   "execution_count": null,
   "metadata": {},
   "outputs": [],
   "source": [
    "# Create a top 5 ranking for each technology\n",
    "top5_rankings = {}\n",
    "for technology in cols_tecnologia:\n",
    "    top5_rankings[technology] = count_si_by_province_technology[['Provincia', technology]].nlargest(5, technology)\n",
    "# Print the top 5 rankings for each technology\n",
    "for technology, ranking in top5_rankings.items():\n",
    "    print(f\"Top 5 for {technology}:\")\n",
    "    print(ranking)\n",
    "    print()"
   ]
  },
  {
   "cell_type": "code",
   "execution_count": null,
   "metadata": {},
   "outputs": [],
   "source": [
    "import matplotlib.pyplot as plt\n",
    " # Create a bar chart for each technology's top 5 rankings\n",
    "for technology, ranking in top5_rankings.items():\n",
    "    plt.figure(figsize=(10, 6))\n",
    "    plt.bar(ranking['Provincia'], ranking[technology])\n",
    "    plt.xlabel('Provincia')\n",
    "    plt.ylabel('Count')\n",
    "    plt.title(f'Top 5 for {technology}')\n",
    "    plt.xticks(rotation=45)\n",
    "    plt.show()"
   ]
  },
  {
   "cell_type": "code",
   "execution_count": null,
   "metadata": {},
   "outputs": [],
   "source": [
    "count_si_by_province_technology.to_parquet('./datos_tratados/df15(tecnoXprov).parquet')\n",
    "# grabamos este filtro en un parquet para usarlo despues en PowerBI"
   ]
  },
  {
   "cell_type": "code",
   "execution_count": null,
   "metadata": {},
   "outputs": [],
   "source": [
    "df15[['Localidad','Provincia']].sample(1)"
   ]
  },
  {
   "cell_type": "markdown",
   "metadata": {},
   "source": [
    "Oportunidades de negocio:  \n",
    "\n",
    "     Acceso a Internet de alta velocidad   \n",
    "\n",
    "     Despliegue de servicios en zonas rurales"
   ]
  },
  {
   "cell_type": "code",
   "execution_count": null,
   "metadata": {},
   "outputs": [],
   "source": [
    "# seguir con ETL/EDA según: https://youtu.be/xi0vhXFPegw?t=956"
   ]
  }
 ],
 "metadata": {
  "kernelspec": {
   "display_name": "Python 3",
   "language": "python",
   "name": "python3"
  },
  "language_info": {
   "codemirror_mode": {
    "name": "ipython",
    "version": 3
   },
   "file_extension": ".py",
   "mimetype": "text/x-python",
   "name": "python",
   "nbconvert_exporter": "python",
   "pygments_lexer": "ipython3",
   "version": "3.11.0"
  },
  "orig_nbformat": 4
 },
 "nbformat": 4,
 "nbformat_minor": 2
}
